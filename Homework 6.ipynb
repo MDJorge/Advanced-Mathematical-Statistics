{
 "cells": [
  {
   "cell_type": "markdown",
   "metadata": {},
   "source": [
    "Math A7800: Homework 6\n",
    "\n",
    "Name: Jorge Monzon Diaz\n",
    "\n",
    "Email: jorgemd503@gmail.com"
   ]
  },
  {
   "cell_type": "markdown",
   "metadata": {},
   "source": [
    "## Dependencies"
   ]
  },
  {
   "cell_type": "code",
   "execution_count": 1,
   "metadata": {},
   "outputs": [],
   "source": [
    "import numpy as np\n",
    "from IPython.display import Math\n",
    "import pandas as pd\n",
    "import scipy.stats as stats"
   ]
  },
  {
   "cell_type": "markdown",
   "metadata": {},
   "source": [
    "\\pagebreak\n",
    "# Exercise 5.15\n",
    "\n",
    "Let $X_{ji}$ and $X_{jk}$ be the ith and kth components, respectively of $\\pmb{X}_j$"
   ]
  },
  {
   "cell_type": "markdown",
   "metadata": {},
   "source": [
    "## (a) Show that $\\mu_i=E(X_{ji})=p_i$ and $\\sigma_{ii}=Var(X_{ji})=p_i(1-p_i), i=1,2,...,p$\n",
    "\n",
    "Since we are given discrete random variables\n",
    "\n",
    "$$\\mu=E(X_{ji})=1(p_i)+0(1-p_i)=p_i$$\n",
    "\n",
    "$$\\sigma_{ii}=Var(X_{ji})=(p_i)(1-\\mu)^2+(1-p_i)(0-\\mu)^2=(p_i)(1-pi)^2+(1-p_i)(pi)^2$$\n",
    "\n",
    "$$=p_i(1-p_i)(1-p_i+p_i)=p_i(1-p_i)$$"
   ]
  },
  {
   "cell_type": "markdown",
   "metadata": {},
   "source": [
    "## (b) Show that $\\sigma_{ik}=Cov(X_{ji},X_{jk})=-p_ip_k, i\\neq k$. Why must this covariance be necessarily negative?\n",
    "\n",
    "Due to independence\n",
    "\n",
    "$$\\sigma_{ik}=Cov(X_{ji},X_{jk})=E(X_{ji},X_{jk})-E(X_i)E(X_j)=0-p_ip_k=-p_ip_k$$\n",
    "\n",
    "This covariance is then always negative as there is no correlation between the variables."
   ]
  },
  {
   "cell_type": "markdown",
   "metadata": {},
   "source": [
    "\\pagebreak\n",
    "\n",
    "# Exercise 5.16\n",
    "\n",
    "Given:\n",
    "\n",
    "| $\\hat p_1$ | $\\hat p_2$ | $\\hat p_3$ | $\\hat p_4$ | $\\hat p_5$ |\n",
    "|--------|--------|--------|--------|----------------------------|\n",
    "| .30    | .33    | .16    | .07    | .14                        |\n",
    "\n",
    "$p_5=1-(p_1+p_2+p_3+p_4)$"
   ]
  },
  {
   "cell_type": "markdown",
   "metadata": {},
   "source": [
    "## (a) Construct simultaneous 95% confidence intervals for $p_1,p_2,...,p_5$.\n",
    "\n",
    "$$\\pmb{\\hat p}\\pm\\sqrt{\\chi_q^2(\\alpha)}\\sqrt\\frac{\\pmb{\\hat\\Sigma}}{n}$$\n",
    "\n",
    "Since we have 5 categories, q=4. We also know n=355.\n",
    "\n",
    "$$\\hat p_i\\pm\\sqrt{\\chi_4^2(0.05)}\\sqrt\\frac{{\\hat p_i(1-\\hat p_i)}}{355}$$"
   ]
  },
  {
   "cell_type": "code",
   "execution_count": 2,
   "metadata": {},
   "outputs": [
    {
     "data": {
      "text/latex": [
       "$\\displaystyle \\text{CI for }p_{1}$"
      ],
      "text/plain": [
       "<IPython.core.display.Math object>"
      ]
     },
     "metadata": {},
     "output_type": "display_data"
    },
    {
     "data": {
      "text/latex": [
       "$\\displaystyle 0.30\\pm\\sqrt{\\chi_4^2(0.05)}\\sqrt{\\frac {0.30(1-0.30)}{355}}$"
      ],
      "text/plain": [
       "<IPython.core.display.Math object>"
      ]
     },
     "metadata": {},
     "output_type": "display_data"
    },
    {
     "data": {
      "text/latex": [
       "$\\displaystyle (0.2251, 0.3749)$"
      ],
      "text/plain": [
       "<IPython.core.display.Math object>"
      ]
     },
     "metadata": {},
     "output_type": "display_data"
    },
    {
     "name": "stdout",
     "output_type": "stream",
     "text": [
      "\n",
      "\n"
     ]
    },
    {
     "data": {
      "text/latex": [
       "$\\displaystyle \\text{CI for }p_{2}$"
      ],
      "text/plain": [
       "<IPython.core.display.Math object>"
      ]
     },
     "metadata": {},
     "output_type": "display_data"
    },
    {
     "data": {
      "text/latex": [
       "$\\displaystyle 0.33\\pm\\sqrt{\\chi_4^2(0.05)}\\sqrt{\\frac {0.33(1-0.33)}{355}}$"
      ],
      "text/plain": [
       "<IPython.core.display.Math object>"
      ]
     },
     "metadata": {},
     "output_type": "display_data"
    },
    {
     "data": {
      "text/latex": [
       "$\\displaystyle (0.2531, 0.4069)$"
      ],
      "text/plain": [
       "<IPython.core.display.Math object>"
      ]
     },
     "metadata": {},
     "output_type": "display_data"
    },
    {
     "name": "stdout",
     "output_type": "stream",
     "text": [
      "\n",
      "\n"
     ]
    },
    {
     "data": {
      "text/latex": [
       "$\\displaystyle \\text{CI for }p_{3}$"
      ],
      "text/plain": [
       "<IPython.core.display.Math object>"
      ]
     },
     "metadata": {},
     "output_type": "display_data"
    },
    {
     "data": {
      "text/latex": [
       "$\\displaystyle 0.16\\pm\\sqrt{\\chi_4^2(0.05)}\\sqrt{\\frac {0.16(1-0.16)}{355}}$"
      ],
      "text/plain": [
       "<IPython.core.display.Math object>"
      ]
     },
     "metadata": {},
     "output_type": "display_data"
    },
    {
     "data": {
      "text/latex": [
       "$\\displaystyle (0.1001, 0.2199)$"
      ],
      "text/plain": [
       "<IPython.core.display.Math object>"
      ]
     },
     "metadata": {},
     "output_type": "display_data"
    },
    {
     "name": "stdout",
     "output_type": "stream",
     "text": [
      "\n",
      "\n"
     ]
    },
    {
     "data": {
      "text/latex": [
       "$\\displaystyle \\text{CI for }p_{4}$"
      ],
      "text/plain": [
       "<IPython.core.display.Math object>"
      ]
     },
     "metadata": {},
     "output_type": "display_data"
    },
    {
     "data": {
      "text/latex": [
       "$\\displaystyle 0.07\\pm\\sqrt{\\chi_4^2(0.05)}\\sqrt{\\frac {0.07(1-0.07)}{355}}$"
      ],
      "text/plain": [
       "<IPython.core.display.Math object>"
      ]
     },
     "metadata": {},
     "output_type": "display_data"
    },
    {
     "data": {
      "text/latex": [
       "$\\displaystyle (0.0283, 0.1117)$"
      ],
      "text/plain": [
       "<IPython.core.display.Math object>"
      ]
     },
     "metadata": {},
     "output_type": "display_data"
    },
    {
     "name": "stdout",
     "output_type": "stream",
     "text": [
      "\n",
      "\n"
     ]
    },
    {
     "data": {
      "text/latex": [
       "$\\displaystyle \\text{CI for }p_{5}$"
      ],
      "text/plain": [
       "<IPython.core.display.Math object>"
      ]
     },
     "metadata": {},
     "output_type": "display_data"
    },
    {
     "data": {
      "text/latex": [
       "$\\displaystyle 0.14\\pm\\sqrt{\\chi_4^2(0.05)}\\sqrt{\\frac {0.14(1-0.14)}{355}}$"
      ],
      "text/plain": [
       "<IPython.core.display.Math object>"
      ]
     },
     "metadata": {},
     "output_type": "display_data"
    },
    {
     "data": {
      "text/latex": [
       "$\\displaystyle (0.0833, 0.1967)$"
      ],
      "text/plain": [
       "<IPython.core.display.Math object>"
      ]
     },
     "metadata": {},
     "output_type": "display_data"
    },
    {
     "name": "stdout",
     "output_type": "stream",
     "text": [
      "\n",
      "\n"
     ]
    }
   ],
   "source": [
    "p=[.30,.33,.16,.07,.14]\n",
    "\n",
    "for i in range(0,5):\n",
    "    #display CI for each p\n",
    "    j=i+1\n",
    "    display(Math('\\\\text{CI for }p_{%i}' %j))\n",
    "    display(Math('%.2f\\pm\\sqrt{\\chi_4^2(0.05)}\\sqrt{\\\\frac {%.2f(1-%.2f)}{355}}' %(p[i],p[i],p[i])))\n",
    "    \n",
    "    #compute CI bounds and display them\n",
    "    lower=p[i]-np.sqrt(stats.chi2.ppf(1-.05,4))*np.sqrt((p[i]*(1-p[i]))/355)\n",
    "    upper=p[i]+np.sqrt(stats.chi2.ppf(1-.05,4))*np.sqrt((p[i]*(1-p[i]))/355)\n",
    "    display(Math('(%.4f, %.4f)' %(lower,upper)))\n",
    "    print(\"\\n\")"
   ]
  },
  {
   "cell_type": "markdown",
   "metadata": {},
   "source": [
    "## (b) Construct a simultaneous 95% confidence interval that allows a comparison of the Bank of Shorewood with its major competitor, Bank B. Interpret this interval.\n",
    "\n",
    "CI for difference in proportions:\n",
    "\n",
    "$$\\hat p_i - \\hat p_j\\pm\\sqrt{\\chi_q^2(\\alpha)}\\sqrt\\frac{\\hat p_i(1-\\hat p_i)+\\hat p_j (1-\\hat p_j) - 2 \\hat p_i \\hat p_j}{n}$$\n",
    "\n",
    "Bank of Shorewood: $p_1$\n",
    "\n",
    "Bank B: $p_2$\n",
    "\n",
    "$$\\hat p_1 - \\hat p_2\\pm\\sqrt{\\chi_4^2(0.05)}\\sqrt\\frac{\\hat p_1(1-\\hat p_1)+\\hat p_2 (1-\\hat p_2) - 2 \\hat p_1 \\hat p_2}{355}$$"
   ]
  },
  {
   "cell_type": "code",
   "execution_count": 3,
   "metadata": {},
   "outputs": [
    {
     "data": {
      "text/latex": [
       "$\\displaystyle 0.30 - 0.33\\pm\\sqrt{\\chi_4^2(0.05)}\\sqrt\\frac{0.30(1-0.30)+0.33 (1-0.33) - 2 (0.30)( 0.33)}{355}$"
      ],
      "text/plain": [
       "<IPython.core.display.Math object>"
      ]
     },
     "metadata": {},
     "output_type": "display_data"
    },
    {
     "data": {
      "text/latex": [
       "$\\displaystyle (-0.1089, 0.0489)$"
      ],
      "text/plain": [
       "<IPython.core.display.Math object>"
      ]
     },
     "metadata": {},
     "output_type": "display_data"
    }
   ],
   "source": [
    "#display CI formula\n",
    "display(Math('%.2f - %.2f\\pm\\sqrt{\\chi_4^2(0.05)}\\sqrt\\\\frac{%.2f(1-%.2f)+%.2f (1-%.2f) - 2 (%.2f)( %.2f)}{355}' %(p[0],p[1],p[0],p[0],p[1],p[1],p[0],p[1])))\n",
    "\n",
    "#compute CI bounds and display them\n",
    "lower=p[0]-p[1]-np.sqrt(stats.chi2.ppf(1-.05,4))*np.sqrt(((p[0]*(1-p[0]))+(p[1]*(1-p[1]))-2*p[0]*p[1])/355)\n",
    "upper=p[0]-p[1]+np.sqrt(stats.chi2.ppf(1-.05,4))*np.sqrt(((p[0]*(1-p[0]))+(p[1]*(1-p[1]))-2*p[0]*p[1])/355)\n",
    "display(Math('(%.4f, %.4f)' %(lower,upper)))"
   ]
  },
  {
   "cell_type": "markdown",
   "metadata": {},
   "source": [
    "Since the simultaneous confidence is so small, we can claim there is no significant difference between the two proportions."
   ]
  },
  {
   "cell_type": "markdown",
   "metadata": {},
   "source": [
    "\\pagebreak\n",
    "\n",
    "# Exercise 5.17\n",
    "\n",
    "Given:\n",
    "\n",
    "| $\\hat p_1$ | $\\hat p_2$ | $\\hat p_3$ |\n",
    "|--------|--------|--------|\n",
    "| .585    | .310    | .105    |\n",
    "\n",
    "Construct the 95% simultaneous confidence intervals for the three proportions $p_1, p_2, \\text{and } p_3=1-(p_1+p_2)$\n",
    "\n",
    "$$\\pmb{\\hat p}\\pm\\sqrt{\\chi_q^2(\\alpha)}\\sqrt\\frac{\\pmb{\\hat\\Sigma}}{n}$$\n",
    "\n",
    "Since we have 3 categories, q=2. We also know n=200.\n",
    "\n",
    "$$\\hat p_i\\pm\\sqrt{\\chi_2^2(0.05)}\\sqrt\\frac{{\\hat p_i(1-\\hat p_i)}}{200}$$"
   ]
  },
  {
   "cell_type": "code",
   "execution_count": 4,
   "metadata": {},
   "outputs": [
    {
     "data": {
      "text/latex": [
       "$\\displaystyle \\text{CI for }p_{1}$"
      ],
      "text/plain": [
       "<IPython.core.display.Math object>"
      ]
     },
     "metadata": {},
     "output_type": "display_data"
    },
    {
     "data": {
      "text/latex": [
       "$\\displaystyle 0.58\\pm\\sqrt{\\chi_2^2(0.05)}\\sqrt{\\frac {0.58(1-0.58)}{355}}$"
      ],
      "text/plain": [
       "<IPython.core.display.Math object>"
      ]
     },
     "metadata": {},
     "output_type": "display_data"
    },
    {
     "data": {
      "text/latex": [
       "$\\displaystyle (0.4997, 0.6703)$"
      ],
      "text/plain": [
       "<IPython.core.display.Math object>"
      ]
     },
     "metadata": {},
     "output_type": "display_data"
    },
    {
     "name": "stdout",
     "output_type": "stream",
     "text": [
      "\n",
      "\n"
     ]
    },
    {
     "data": {
      "text/latex": [
       "$\\displaystyle \\text{CI for }p_{2}$"
      ],
      "text/plain": [
       "<IPython.core.display.Math object>"
      ]
     },
     "metadata": {},
     "output_type": "display_data"
    },
    {
     "data": {
      "text/latex": [
       "$\\displaystyle 0.31\\pm\\sqrt{\\chi_2^2(0.05)}\\sqrt{\\frac {0.31(1-0.31)}{355}}$"
      ],
      "text/plain": [
       "<IPython.core.display.Math object>"
      ]
     },
     "metadata": {},
     "output_type": "display_data"
    },
    {
     "data": {
      "text/latex": [
       "$\\displaystyle (0.2300, 0.3900)$"
      ],
      "text/plain": [
       "<IPython.core.display.Math object>"
      ]
     },
     "metadata": {},
     "output_type": "display_data"
    },
    {
     "name": "stdout",
     "output_type": "stream",
     "text": [
      "\n",
      "\n"
     ]
    },
    {
     "data": {
      "text/latex": [
       "$\\displaystyle \\text{CI for }p_{3}$"
      ],
      "text/plain": [
       "<IPython.core.display.Math object>"
      ]
     },
     "metadata": {},
     "output_type": "display_data"
    },
    {
     "data": {
      "text/latex": [
       "$\\displaystyle 0.10\\pm\\sqrt{\\chi_2^2(0.05)}\\sqrt{\\frac {0.10(1-0.10)}{355}}$"
      ],
      "text/plain": [
       "<IPython.core.display.Math object>"
      ]
     },
     "metadata": {},
     "output_type": "display_data"
    },
    {
     "data": {
      "text/latex": [
       "$\\displaystyle (0.0519, 0.1581)$"
      ],
      "text/plain": [
       "<IPython.core.display.Math object>"
      ]
     },
     "metadata": {},
     "output_type": "display_data"
    },
    {
     "name": "stdout",
     "output_type": "stream",
     "text": [
      "\n",
      "\n"
     ]
    }
   ],
   "source": [
    "p=[.585,.310,.105]\n",
    "\n",
    "for i in range(0,3):\n",
    "    #display CI for each p\n",
    "    j=i+1\n",
    "    display(Math('\\\\text{CI for }p_{%i}' %j))\n",
    "    display(Math('%.2f\\pm\\sqrt{\\chi_2^2(0.05)}\\sqrt{\\\\frac {%.2f(1-%.2f)}{355}}' %(p[i],p[i],p[i])))\n",
    "    \n",
    "    #compute CI bounds and display them\n",
    "    lower=p[i]-np.sqrt(stats.chi2.ppf(1-.05,2))*np.sqrt((p[i]*(1-p[i]))/200)\n",
    "    upper=p[i]+np.sqrt(stats.chi2.ppf(1-.05,2))*np.sqrt((p[i]*(1-p[i]))/200)\n",
    "    display(Math('(%.4f, %.4f)' %(lower,upper)))\n",
    "    print(\"\\n\")"
   ]
  },
  {
   "cell_type": "markdown",
   "metadata": {},
   "source": [
    "\\pagebreak\n",
    "\n",
    "# Exercise 5.30\n",
    "\n",
    "Refer to the data on energy consumption in Exercise 3.18\n",
    "\n",
    "$x_1 =$ petroleum\n",
    "\n",
    "$x_2 =$ natural gas\n",
    "\n",
    "$x_3 =$ hydroelectric power\n",
    "\n",
    "$x_4 =$ nuclear electric power\n",
    "\n",
    "$$\\pmb{\\bar{x}}=\\begin{bmatrix}0.766\\\\0.508\\\\0.438\\\\0.161\\end{bmatrix}$$\n",
    "\n",
    "$$ \\pmb{S}= \\begin{bmatrix}0.856&0.635&0.173&0.096\\\\0.635&0.568&0.128&0.067\\\\0.173&0.127&0.171&0.039\\\\0.096&0.067&0.039&0.043\\end{bmatrix} $$"
   ]
  },
  {
   "cell_type": "markdown",
   "metadata": {},
   "source": [
    "## (a) Obtain the large sample 95% Bonferroni confidence intervals for the mean consumption of each of the four types, the total of the four, and the difference, petroleum minus natural gas\n",
    "\n",
    "Bonferroni CI:\n",
    "\n",
    "$$\\bar{x_i}-t_{n-1}(\\frac{\\alpha}{2m})\\sqrt{\\frac{s_{ii}}{n}}\\leq\\mu_i\\leq\\bar{x_i}+t_{n-1}(\\frac{\\alpha}{2m})\\sqrt{\\frac{s_{ii}}{n}}$$\n",
    "\n",
    "$$\\left[\\bar{x_i}-t_{n-1}(\\frac{\\alpha}{2m})\\sqrt{\\frac{s_{ii}}{n}},\\bar{x_i}+t_{n-1}(\\frac{\\alpha}{2m})\\sqrt{\\frac{s_{ii}}{n}}\\right]$$\n",
    "\n",
    "\n",
    "For large samples\n",
    "\n",
    "$$\\left[\\bar{x_i}-z(\\frac{\\alpha}{2m})\\sqrt{\\frac{s_{ii}}{n}},\\bar{x_i}+z(\\frac{\\alpha}{2m})\\sqrt{\\frac{s_{ii}}{n}}\\right]$$\n",
    "\n",
    "m=6\n",
    "\n",
    "For $\\mu_1,\\mu_2,\\mu_3,\\mu_4$, their respective corresponding variance is $s_{11},s_{22},s_{33},s_{44}$\n",
    "\n",
    "Let $\\mu_{tot}$ be the mean for the total, and $s_{tot}$ be its corresponding variance.\n",
    "\n",
    "$$\\overline{x_{tot}}=\\sum_{i=1}^4(\\bar{x_i})=1.873$$\n",
    "\n",
    "$$s_{tot}=Var(x_1+x_2+x_3+x_4)=\\sum_{i=1}^4\\sum_{j=1}^4(s_{i,j})=3.913$$\n",
    "\n",
    "Let $\\mu_{1-2}$ be the mean for petroleum minus natural gas, and $s_{1-2}$ be its corresponding variance.\n",
    "\n",
    "$$\\overline{x_{1-2}}=\\bar{x_1}-\\bar{x_2}=0.258$$\n",
    "\n",
    "$$s_{1-2}=Var(x_1-x_2)=Var(x_1)+Var(x_2)-2Cov(x_1,x_2)=s_{11}+s_{22}-2s_{12}=0.154$$"
   ]
  },
  {
   "cell_type": "code",
   "execution_count": 5,
   "metadata": {},
   "outputs": [
    {
     "data": {
      "text/latex": [
       "$\\displaystyle \\text{Large sample Bonferroni CI for petroleum}$"
      ],
      "text/plain": [
       "<IPython.core.display.Math object>"
      ]
     },
     "metadata": {},
     "output_type": "display_data"
    },
    {
     "data": {
      "text/latex": [
       "$\\displaystyle \\left[0.766-z(\\frac{0.05}{12})\\sqrt{\\frac{0.856}{50}},0.766+z(\\frac{0.05}{12})\\sqrt{\\frac{0.856}{50}}\\right]$"
      ],
      "text/plain": [
       "<IPython.core.display.Math object>"
      ]
     },
     "metadata": {},
     "output_type": "display_data"
    },
    {
     "data": {
      "text/latex": [
       "$\\displaystyle (0.421, 1.111)$"
      ],
      "text/plain": [
       "<IPython.core.display.Math object>"
      ]
     },
     "metadata": {},
     "output_type": "display_data"
    },
    {
     "name": "stdout",
     "output_type": "stream",
     "text": [
      "\n",
      "\n"
     ]
    },
    {
     "data": {
      "text/latex": [
       "$\\displaystyle \\text{Large sample Bonferroni CI for natural gas}$"
      ],
      "text/plain": [
       "<IPython.core.display.Math object>"
      ]
     },
     "metadata": {},
     "output_type": "display_data"
    },
    {
     "data": {
      "text/latex": [
       "$\\displaystyle \\left[0.508-z(\\frac{0.05}{12})\\sqrt{\\frac{0.568}{50}},0.508+z(\\frac{0.05}{12})\\sqrt{\\frac{0.568}{50}}\\right]$"
      ],
      "text/plain": [
       "<IPython.core.display.Math object>"
      ]
     },
     "metadata": {},
     "output_type": "display_data"
    },
    {
     "data": {
      "text/latex": [
       "$\\displaystyle (0.227, 0.789)$"
      ],
      "text/plain": [
       "<IPython.core.display.Math object>"
      ]
     },
     "metadata": {},
     "output_type": "display_data"
    },
    {
     "name": "stdout",
     "output_type": "stream",
     "text": [
      "\n",
      "\n"
     ]
    },
    {
     "data": {
      "text/latex": [
       "$\\displaystyle \\text{Large sample Bonferroni CI for hydroelectric power}$"
      ],
      "text/plain": [
       "<IPython.core.display.Math object>"
      ]
     },
     "metadata": {},
     "output_type": "display_data"
    },
    {
     "data": {
      "text/latex": [
       "$\\displaystyle \\left[0.438-z(\\frac{0.05}{12})\\sqrt{\\frac{0.171}{50}},0.438+z(\\frac{0.05}{12})\\sqrt{\\frac{0.171}{50}}\\right]$"
      ],
      "text/plain": [
       "<IPython.core.display.Math object>"
      ]
     },
     "metadata": {},
     "output_type": "display_data"
    },
    {
     "data": {
      "text/latex": [
       "$\\displaystyle (0.284, 0.592)$"
      ],
      "text/plain": [
       "<IPython.core.display.Math object>"
      ]
     },
     "metadata": {},
     "output_type": "display_data"
    },
    {
     "name": "stdout",
     "output_type": "stream",
     "text": [
      "\n",
      "\n"
     ]
    },
    {
     "data": {
      "text/latex": [
       "$\\displaystyle \\text{Large sample Bonferroni CI for nuclear electric power}$"
      ],
      "text/plain": [
       "<IPython.core.display.Math object>"
      ]
     },
     "metadata": {},
     "output_type": "display_data"
    },
    {
     "data": {
      "text/latex": [
       "$\\displaystyle \\left[0.161-z(\\frac{0.05}{12})\\sqrt{\\frac{0.043}{50}},0.161+z(\\frac{0.05}{12})\\sqrt{\\frac{0.043}{50}}\\right]$"
      ],
      "text/plain": [
       "<IPython.core.display.Math object>"
      ]
     },
     "metadata": {},
     "output_type": "display_data"
    },
    {
     "data": {
      "text/latex": [
       "$\\displaystyle (0.084, 0.238)$"
      ],
      "text/plain": [
       "<IPython.core.display.Math object>"
      ]
     },
     "metadata": {},
     "output_type": "display_data"
    },
    {
     "name": "stdout",
     "output_type": "stream",
     "text": [
      "\n",
      "\n"
     ]
    },
    {
     "data": {
      "text/latex": [
       "$\\displaystyle \\text{Large sample Bonferroni CI for total}$"
      ],
      "text/plain": [
       "<IPython.core.display.Math object>"
      ]
     },
     "metadata": {},
     "output_type": "display_data"
    },
    {
     "data": {
      "text/latex": [
       "$\\displaystyle \\left[1.873-z(\\frac{0.05}{12})\\sqrt{\\frac{3.913}{50}},1.873+z(\\frac{0.05}{12})\\sqrt{\\frac{3.913}{50}}\\right]$"
      ],
      "text/plain": [
       "<IPython.core.display.Math object>"
      ]
     },
     "metadata": {},
     "output_type": "display_data"
    },
    {
     "data": {
      "text/latex": [
       "$\\displaystyle (1.135, 2.611)$"
      ],
      "text/plain": [
       "<IPython.core.display.Math object>"
      ]
     },
     "metadata": {},
     "output_type": "display_data"
    },
    {
     "name": "stdout",
     "output_type": "stream",
     "text": [
      "\n",
      "\n"
     ]
    },
    {
     "data": {
      "text/latex": [
       "$\\displaystyle \\text{Large sample Bonferroni CI for petroleum minus natural gas}$"
      ],
      "text/plain": [
       "<IPython.core.display.Math object>"
      ]
     },
     "metadata": {},
     "output_type": "display_data"
    },
    {
     "data": {
      "text/latex": [
       "$\\displaystyle \\left[0.258-z(\\frac{0.05}{12})\\sqrt{\\frac{0.154}{50}},0.258+z(\\frac{0.05}{12})\\sqrt{\\frac{0.154}{50}}\\right]$"
      ],
      "text/plain": [
       "<IPython.core.display.Math object>"
      ]
     },
     "metadata": {},
     "output_type": "display_data"
    },
    {
     "data": {
      "text/latex": [
       "$\\displaystyle (0.112, 0.404)$"
      ],
      "text/plain": [
       "<IPython.core.display.Math object>"
      ]
     },
     "metadata": {},
     "output_type": "display_data"
    },
    {
     "name": "stdout",
     "output_type": "stream",
     "text": [
      "\n",
      "\n"
     ]
    }
   ],
   "source": [
    "labels=[\"petroleum\",\"natural gas\", \"hydroelectric power\", \"nuclear electric power\", \"total\", \"petroleum minus natural gas\"]\n",
    "xbar=[0.766,0.508,0.438,0.161,1.873,0.258]\n",
    "s=[0.856,0.568,0.171,0.043,3.913,0.154]\n",
    "\n",
    "\n",
    "for i in range(len(labels)):\n",
    "    #print equations\n",
    "    display(Math('\\\\text{Large sample Bonferroni CI for %s}' %labels[i]))\n",
    "    display(Math('\\left[%.3f-z(\\\\frac{0.05}{12})\\sqrt{\\\\frac{%.3f}{50}},%.3f+z(\\\\frac{0.05}{12})\\sqrt{\\\\frac{%.3f}{50}}\\\\right]' %(xbar[i],s[i],xbar[i],s[i])))\n",
    "    \n",
    "    #compute CI bounds and display them\n",
    "    lower=xbar[i]-stats.norm.ppf(1-0.05/12)*np.sqrt(s[i]/50)\n",
    "    upper=xbar[i]+stats.norm.ppf(1-0.05/12)*np.sqrt(s[i]/50)\n",
    "    display(Math('(%.3f, %.3f)' %(lower,upper)))\n",
    "    print(\"\\n\")"
   ]
  },
  {
   "cell_type": "markdown",
   "metadata": {},
   "source": [
    "## (b) Obtain the large sample 95% simultaneous $T^2$ intervals for the means consumption of each of the four types, the total of the four, and the difference, petroleum minus natural gas. Compare with your results for Part a.\n",
    "\n",
    "For large samples\n",
    "\n",
    "$$\\bar{x_i}-\\sqrt{\\chi_p^2(\\alpha)}\\sqrt{\\frac{s_{ii}}{n}}\\leq\\mu_i\\leq\\bar{x_i}+\\sqrt{\\chi_p^2(\\alpha)}\\sqrt{\\frac{s_{ii}}{n}}$$\n",
    "\n",
    "$$\\left[\\bar{x_i}-\\sqrt{\\chi_p^2(\\alpha)}\\sqrt{\\frac{s_{ii}}{n}},\\bar{x_i}+\\sqrt{\\chi_p^2(\\alpha)}\\sqrt{\\frac{s_{ii}}{n}}\\right]$$\n",
    "\n",
    "We already computed the remaining means and sample variances in the previous problem so now we can just plug into our equation and compute"
   ]
  },
  {
   "cell_type": "code",
   "execution_count": 6,
   "metadata": {},
   "outputs": [
    {
     "data": {
      "text/latex": [
       "$\\displaystyle \\text{Large simultaneous }T^2\\text{-interval for petroleum}$"
      ],
      "text/plain": [
       "<IPython.core.display.Math object>"
      ]
     },
     "metadata": {},
     "output_type": "display_data"
    },
    {
     "data": {
      "text/latex": [
       "$\\displaystyle \\left[0.766-\\sqrt{\\chi_4^2(0.05)}\\sqrt{\\frac{0.856}{50}},0.766+\\sqrt{\\chi_4^2(0.05)}\\sqrt{\\frac{0.856}{50}}\\right]$"
      ],
      "text/plain": [
       "<IPython.core.display.Math object>"
      ]
     },
     "metadata": {},
     "output_type": "display_data"
    },
    {
     "data": {
      "text/latex": [
       "$\\displaystyle (0.363, 1.169)$"
      ],
      "text/plain": [
       "<IPython.core.display.Math object>"
      ]
     },
     "metadata": {},
     "output_type": "display_data"
    },
    {
     "name": "stdout",
     "output_type": "stream",
     "text": [
      "\n",
      "\n"
     ]
    },
    {
     "data": {
      "text/latex": [
       "$\\displaystyle \\text{Large simultaneous }T^2\\text{-interval for natural gas}$"
      ],
      "text/plain": [
       "<IPython.core.display.Math object>"
      ]
     },
     "metadata": {},
     "output_type": "display_data"
    },
    {
     "data": {
      "text/latex": [
       "$\\displaystyle \\left[0.508-\\sqrt{\\chi_4^2(0.05)}\\sqrt{\\frac{0.568}{50}},0.508+\\sqrt{\\chi_4^2(0.05)}\\sqrt{\\frac{0.568}{50}}\\right]$"
      ],
      "text/plain": [
       "<IPython.core.display.Math object>"
      ]
     },
     "metadata": {},
     "output_type": "display_data"
    },
    {
     "data": {
      "text/latex": [
       "$\\displaystyle (0.180, 0.836)$"
      ],
      "text/plain": [
       "<IPython.core.display.Math object>"
      ]
     },
     "metadata": {},
     "output_type": "display_data"
    },
    {
     "name": "stdout",
     "output_type": "stream",
     "text": [
      "\n",
      "\n"
     ]
    },
    {
     "data": {
      "text/latex": [
       "$\\displaystyle \\text{Large simultaneous }T^2\\text{-interval for hydroelectric power}$"
      ],
      "text/plain": [
       "<IPython.core.display.Math object>"
      ]
     },
     "metadata": {},
     "output_type": "display_data"
    },
    {
     "data": {
      "text/latex": [
       "$\\displaystyle \\left[0.438-\\sqrt{\\chi_4^2(0.05)}\\sqrt{\\frac{0.171}{50}},0.438+\\sqrt{\\chi_4^2(0.05)}\\sqrt{\\frac{0.171}{50}}\\right]$"
      ],
      "text/plain": [
       "<IPython.core.display.Math object>"
      ]
     },
     "metadata": {},
     "output_type": "display_data"
    },
    {
     "data": {
      "text/latex": [
       "$\\displaystyle (0.258, 0.618)$"
      ],
      "text/plain": [
       "<IPython.core.display.Math object>"
      ]
     },
     "metadata": {},
     "output_type": "display_data"
    },
    {
     "name": "stdout",
     "output_type": "stream",
     "text": [
      "\n",
      "\n"
     ]
    },
    {
     "data": {
      "text/latex": [
       "$\\displaystyle \\text{Large simultaneous }T^2\\text{-interval for nuclear electric power}$"
      ],
      "text/plain": [
       "<IPython.core.display.Math object>"
      ]
     },
     "metadata": {},
     "output_type": "display_data"
    },
    {
     "data": {
      "text/latex": [
       "$\\displaystyle \\left[0.161-\\sqrt{\\chi_4^2(0.05)}\\sqrt{\\frac{0.043}{50}},0.161+\\sqrt{\\chi_4^2(0.05)}\\sqrt{\\frac{0.043}{50}}\\right]$"
      ],
      "text/plain": [
       "<IPython.core.display.Math object>"
      ]
     },
     "metadata": {},
     "output_type": "display_data"
    },
    {
     "data": {
      "text/latex": [
       "$\\displaystyle (0.071, 0.251)$"
      ],
      "text/plain": [
       "<IPython.core.display.Math object>"
      ]
     },
     "metadata": {},
     "output_type": "display_data"
    },
    {
     "name": "stdout",
     "output_type": "stream",
     "text": [
      "\n",
      "\n"
     ]
    },
    {
     "data": {
      "text/latex": [
       "$\\displaystyle \\text{Large simultaneous }T^2\\text{-interval for total}$"
      ],
      "text/plain": [
       "<IPython.core.display.Math object>"
      ]
     },
     "metadata": {},
     "output_type": "display_data"
    },
    {
     "data": {
      "text/latex": [
       "$\\displaystyle \\left[1.873-\\sqrt{\\chi_4^2(0.05)}\\sqrt{\\frac{3.913}{50}},1.873+\\sqrt{\\chi_4^2(0.05)}\\sqrt{\\frac{3.913}{50}}\\right]$"
      ],
      "text/plain": [
       "<IPython.core.display.Math object>"
      ]
     },
     "metadata": {},
     "output_type": "display_data"
    },
    {
     "data": {
      "text/latex": [
       "$\\displaystyle (1.011, 2.735)$"
      ],
      "text/plain": [
       "<IPython.core.display.Math object>"
      ]
     },
     "metadata": {},
     "output_type": "display_data"
    },
    {
     "name": "stdout",
     "output_type": "stream",
     "text": [
      "\n",
      "\n"
     ]
    },
    {
     "data": {
      "text/latex": [
       "$\\displaystyle \\text{Large simultaneous }T^2\\text{-interval for petroleum minus natural gas}$"
      ],
      "text/plain": [
       "<IPython.core.display.Math object>"
      ]
     },
     "metadata": {},
     "output_type": "display_data"
    },
    {
     "data": {
      "text/latex": [
       "$\\displaystyle \\left[0.258-\\sqrt{\\chi_4^2(0.05)}\\sqrt{\\frac{0.154}{50}},0.258+\\sqrt{\\chi_4^2(0.05)}\\sqrt{\\frac{0.154}{50}}\\right]$"
      ],
      "text/plain": [
       "<IPython.core.display.Math object>"
      ]
     },
     "metadata": {},
     "output_type": "display_data"
    },
    {
     "data": {
      "text/latex": [
       "$\\displaystyle (0.087, 0.429)$"
      ],
      "text/plain": [
       "<IPython.core.display.Math object>"
      ]
     },
     "metadata": {},
     "output_type": "display_data"
    },
    {
     "name": "stdout",
     "output_type": "stream",
     "text": [
      "\n",
      "\n"
     ]
    }
   ],
   "source": [
    "for i in range(len(labels)):\n",
    "    #print equations\n",
    "    display(Math('\\\\text{Large simultaneous }T^2\\\\text{-interval for %s}' %labels[i]))\n",
    "    display(Math('\\left[%.3f-\\sqrt{\\chi_4^2(0.05)}\\sqrt{\\\\frac{%.3f}{50}},%.3f+\\sqrt{\\chi_4^2(0.05)}\\sqrt{\\\\frac{%.3f}{50}}\\\\right]' %(xbar[i],s[i],xbar[i],s[i])))\n",
    "    \n",
    "    #compute CI bounds and display them\n",
    "    lower=xbar[i]-np.sqrt(stats.chi2.ppf(1-0.05,4))*np.sqrt(s[i]/50)\n",
    "    upper=xbar[i]+np.sqrt(stats.chi2.ppf(1-0.05,4))*np.sqrt(s[i]/50)\n",
    "    display(Math('(%.3f, %.3f)' %(lower,upper)))\n",
    "    print(\"\\n\")"
   ]
  },
  {
   "cell_type": "markdown",
   "metadata": {},
   "source": [
    "\\pagebreak\n",
    "\n",
    "# Exercise 5.18a\n",
    "\n",
    "Use the college test data in Table 5.2\n",
    "\n",
    "Test the null hypothesis $H_0:\\pmb{\\mu}^T=[500,50,30]$ versus $H_1:\\pmb{\\mu}^T\\neq[500,50,30]$ at the $\\alpha=.05$ level of significance. Suppose $[500,50,30]^T$ represent average scores for thousands of college students over the last 10 years. Is there reason to believe that the group of students represented by the scores in Table 5.2 is scoring differently? Explain.\n",
    "\n",
    "$$T^2=n(\\pmb{\\bar{X}}-\\pmb{\\mu_0})^T \\pmb{S^{-1}}(\\pmb{\\bar{X}}-\\pmb{\\mu_0})$$\n",
    "\n",
    "$$S=\\frac{1}{n-1}(\\pmb{X-1\\bar{x}^T})^T(\\pmb{X-1\\bar{x}^T})$$"
   ]
  },
  {
   "cell_type": "code",
   "execution_count": 7,
   "metadata": {},
   "outputs": [
    {
     "name": "stdout",
     "output_type": "stream",
     "text": [
      "x-mean:\n",
      "x1    526.586207\n",
      "x2     54.689655\n",
      "x3     25.126437\n",
      "dtype: float64 \n",
      "\n",
      "S:\n",
      "[[5808.05934242  597.83520449  222.02967121]\n",
      " [ 597.83520449  126.05372895   23.38853248]\n",
      " [ 222.02967121   23.38853248   23.11173483]]\n",
      "\n",
      "S^(-1):\n",
      "[[ 0.00043194 -0.00157423 -0.0025565 ]\n",
      " [-0.00157423  0.0155044  -0.00056675]\n",
      " [-0.0025565  -0.00056675  0.06840139]]\n",
      "\n",
      "T^2:\n",
      "223.3101756848916\n"
     ]
    }
   ],
   "source": [
    "#read data\n",
    "x = pd.read_excel (r'hw6.xlsx', sheet_name='data 518')\n",
    "\n",
    "#compute mean\n",
    "xmean=x.mean(axis = 0) \n",
    "print(\"x-mean:\")\n",
    "print(xmean,\"\\n\")\n",
    "\n",
    "#strip values from table\n",
    "X=x.to_numpy()\n",
    "\n",
    "#find S\n",
    "R=X-np.ones((87,1))*[xmean[0],xmean[1],xmean[2]]\n",
    "S=1/86*(np.matmul(R.transpose(),R))\n",
    "print('S:')\n",
    "print(S)\n",
    "\n",
    "#invert S\n",
    "invS=np.linalg.inv(S)\n",
    "print('\\nS^(-1):')\n",
    "print(invS)\n",
    "\n",
    "#compute T^2\n",
    "T2=87*np.matmul(np.matmul(np.array([xmean[0]-500,xmean[1]-50,xmean[2]-30]),invS),np.array([xmean[0]-500,xmean[1]-50,xmean[2]-30]).transpose())\n",
    "print('\\nT^2:')\n",
    "print(T2)"
   ]
  },
  {
   "cell_type": "markdown",
   "metadata": {},
   "source": [
    "Our critical point at $\\alpha=0.05$ is\n",
    "\n",
    "$$\\frac{(n-1)p}{(n-p)}F_{p,n-p}(\\alpha)=\\frac{(87-1)3}{(87-3)}F_{3,87-3}(0.05)=\\frac{258}{84}F_{3,84}(0.05)$$"
   ]
  },
  {
   "cell_type": "code",
   "execution_count": 8,
   "metadata": {},
   "outputs": [
    {
     "name": "stdout",
     "output_type": "stream",
     "text": [
      "Critical point: 8.3334833261061\n"
     ]
    }
   ],
   "source": [
    "print(\"Critical point:\",258/84*stats.f.ppf(1-.05,3,84))"
   ]
  },
  {
   "cell_type": "markdown",
   "metadata": {},
   "source": [
    "We reject our null hypothesis at $\\alpha=.05$ because $223.3102>8.3335$."
   ]
  },
  {
   "cell_type": "markdown",
   "metadata": {},
   "source": [
    "\\pagebreak\n",
    "\n",
    "# Exercise 5.19\n",
    "\n",
    "Measurements of $x_1 =$ stiffness and $x_2 =$ bending strength for a sample of n=30 pieces of a particular grade of lumber are given in Table 5.11"
   ]
  },
  {
   "cell_type": "markdown",
   "metadata": {},
   "source": [
    "## (a) Construct and sketch a 95% confidence ellipse for the pair $[\\mu_1,\\mu_2]^T$ where $\\mu_1=E(X_1)$ and $\\mu_2=E(X_2)$\n",
    "\n",
    "We know that\n",
    "\n",
    "$$T^2=n(\\pmb{\\bar{X}}-\\pmb{\\mu_0})^T \\pmb{S^{-1}}(\\pmb{\\bar{X}}-\\pmb{\\mu_0})$$\n",
    "\n",
    "and \n",
    "\n",
    "$$T^2\\sim\\frac{(n-1)p}{(n-p)}F_{p,n-p}$$\n",
    "\n",
    "So our confidence region is given by \n",
    "\n",
    "$$n(\\pmb{\\bar{X}}-\\pmb{\\mu_0})^T \\pmb{S^{-1}}(\\pmb{\\bar{X}}-\\pmb{\\mu_0})\\leq\\frac{(n-1)p}{(n-p)}F_{p,n-p}(0.05)$$\n",
    "\n",
    "We are given\n",
    "\n",
    "$$\\pmb{X}=\\begin{bmatrix}\\pmb{x_1}&\\pmb{x_2}\\end{bmatrix}$$\n",
    "\n",
    "First we find \n",
    "\n",
    "$$\\pmb{\\bar{X}}=\\begin{bmatrix}\\bar{x_1}\\\\\\bar{x_2}\\end{bmatrix}$$\n",
    "\n",
    "Using the mean, we can then compute the sample variance\n",
    "\n",
    "$$\\pmb{S}=\\frac{1}{n-1}(\\pmb{X-1\\bar{x}^T})^T(\\pmb{X-1\\bar{x}^T})$$\n",
    "\n",
    "Now we have sufficient information to plug into the equation for our confidence region\n",
    "\n",
    "$$n(\\pmb{\\bar{X}}-\\pmb{\\mu_0})^T \\pmb{S^{-1}}(\\pmb{\\bar{X}}-\\pmb{\\mu_0})\\leq\\frac{(n-1)p}{(n-p)}F_{p,n-p}(0.05)$$\n",
    "\n",
    "$$30\\begin{bmatrix}\\bar{x_1}-\\mu_{1}&\\bar{x_2}-\\mu_{2}\\end{bmatrix} \\pmb{S^{-1}}\\begin{bmatrix}\\bar{x_1}-\\mu_{1}\\\\\\bar{x_2}-\\mu_{2}\\end{bmatrix}\\leq\\frac{(29)2}{(28)}F_{2,28}(0.05)$$\n",
    "\n",
    "Additionally, to find the semi-major and semi-minor axis lengths of our confidence ellipse, we use S to compute the eigenvalues and their respective eigenvectors.\n",
    "\n",
    "$$|\\pmb{S}-I\\pmb{\\lambda}|=0, \\text{ and } \\lambda_1, \\lambda_2 \\text{ are our eigenvalues with their respective eigenvectors }\\pmb{u_1}, \\pmb{u_2}$$\n",
    "\n",
    "The half-axis lengths from $(\\mu_1,\\mu_2)$ are given by:\n",
    "\n",
    "$$\\sqrt{\\frac{(29)2}{30(28)}F_{2,28}(0.05)\\lambda_i}$$ in their respective directions $\\pmb{u_1}, \\pmb{u_2}$"
   ]
  },
  {
   "cell_type": "markdown",
   "metadata": {},
   "source": [
    "## (b) Suppose $\\mu_{10}=2000, \\mu_{20}=10000$ represent \"typical\" values for the stiffness and bending strength, respectively. Given the result in (a), are the data in Table 5.11 consistent with these values?\n",
    "\n",
    "We can perform a $T^2$ hypothesis test, we know that\n",
    "\n",
    "$$T^2=n(\\pmb{\\bar{X}}-\\pmb{\\mu_0})^T \\pmb{S^{-1}}(\\pmb{\\bar{X}}-\\pmb{\\mu_0})=30\\begin{bmatrix}\\bar{x_1}-2000&\\bar{x_2}-10000\\end{bmatrix} \\pmb{S^{-1}}\\begin{bmatrix}\\bar{x_1}-2000\\\\\\bar{x_2}-10000\\end{bmatrix}$$\n",
    "\n",
    "And our critical point is given by\n",
    "\n",
    "$$\\frac{(n-1)p}{(n-p)}F_{p,n-p}(\\alpha)=\\frac{(29)2}{(28)}F_{2,28}(0.05)$$\n",
    "\n",
    "$H_0:[\\mu_{10}=2000, \\mu_{20}=10000]^T$\n",
    "\n",
    "$H_1:[\\mu_{10}\\neq2000, \\mu_{20}\\neq10000]^T$\n",
    "\n",
    "We reject our null hypothesis at $\\alpha=.05$ if $T^2>\\frac{(29)2}{(28)}F_{2,28}(0.05)$, it is for this same reason that we also fail to reject $H_0$ if the point falls within the confidence ellise."
   ]
  },
  {
   "cell_type": "markdown",
   "metadata": {},
   "source": [
    "## (c) Is the bivariate normal distribution a viable population model? Explain the reference to Q-Q plots and a scatter diagram.\n",
    "\n",
    "A scatter plot is useful in visually determining outliers in our data. We can use Q-Q plots to test for marginal normality of both the stiffness and bending strength. These three diagrams then help us to determine whether bivariate normality is a plausible population model in this scenario. If the Q-Q plots follow linear trends and the scatter plot data coincides, we can then assume it must be plausible."
   ]
  },
  {
   "cell_type": "markdown",
   "metadata": {},
   "source": [
    "\\pagebreak\n",
    "\n",
    "# Exercise 5.21\n",
    "\n",
    "Using the data on bone mineral content in Table 1.8, construct the 95% Bonferroni intervals for the individual means. Also, find the 95% simultaneous $T^2$-intervals. Compare the two sets of intervals.\n",
    "\n",
    "We have 6 samples $\\pmb{X}=[\\pmb{x_1},...,\\pmb{x_6}]$ and conversely $\\pmb{\\bar{X}}=[\\bar{x_1},...,\\bar{x_6}]^T$\n",
    "\n",
    "We can now compute the sample variance\n",
    "\n",
    "\n",
    "$$\\pmb{S}=\\frac{1}{n-1}(\\pmb{X-1\\bar{x}^T})^T(\\pmb{X-1\\bar{x}^T})$$\n",
    "\n",
    "This is a 6x6 matrix from which we will need $s_{11},s_{22},s_{33},s_{44},s_{55},s_{66}$\n",
    "\n",
    "---\n",
    "\n",
    "The 95% confidence Bonferroni intervals, given $m=p=6$, for each $\\mu_i$ where $i=1,...,6$ is given by\n",
    "\n",
    "$$\\bar{x_i}-t_{n-1}(\\frac{\\alpha}{2p})\\sqrt{\\frac{s_{ii}}{n}}\\leq\\mu_i\\leq\\bar{x_i}+t_{n-1}(\\frac{\\alpha}{2p})\\sqrt{\\frac{s_{ii}}{n}}$$\n",
    "\n",
    "$$\\bar{x_i}-t_{24}(\\frac{0.05}{12})\\sqrt{\\frac{s_{ii}}{25}}\\leq\\mu_i\\leq\\bar{x_i}+t_{24}(\\frac{0.05}{12})\\sqrt{\\frac{s_{ii}}{25}}$$\n",
    "\n",
    "---\n",
    "\n",
    "The simultaneous 95% confidence $T^2$-intervals are similarly given for each $\\mu_i$ where $i=1,...,6$ by\n",
    "\n",
    "$$\\bar{x_i}-\\sqrt{\\frac{p(n-1)}{n(n-p)}F_{p,n-p}(\\alpha)}\\sqrt{s_{ii}}\\leq\\mu_i\\leq\\bar{x_i}+\\sqrt{\\frac{p(n-1)}{n(n-p)}F_{p,n-p}(\\alpha)}\\sqrt{s_{ii}}$$\n",
    "\n",
    "$$\\bar{x_i}-\\sqrt{\\frac{6(24)}{25(19)}F_{6,19}(0.05)}\\sqrt{s_{ii}}\\leq\\mu_i\\leq\\bar{x_i}+\\sqrt{\\frac{6(24)}{25(19)}F_{6,19}(0.05)}\\sqrt{s_{ii}}$$"
   ]
  },
  {
   "cell_type": "markdown",
   "metadata": {},
   "source": [
    "\\pagebreak\n",
    "\n",
    "# Exercise 5.29\n",
    "\n",
    "Refer to the car body data in Exercise 5.28. These are all measured as deviations from target value so it is appropriate to test the null hypothesis that the mean vector is zero. Using the first 30 cases, test $H_0: \\pmb{\\mu}=\\pmb{0}$ at $\\alpha=0.05$\n",
    "\n",
    "\n",
    "---\n",
    "\n",
    "To test the first 30 cases using this null hypothesis, we can use a $T^2$ hypothesis test. \n",
    "\n",
    "First we need to compute the mean for each of our 6 samples (each using only the first 30 observed values) and the sample variance\n",
    "\n",
    "$$\\pmb{\\bar{x}}=\\begin{bmatrix}\\bar{x_1}\\\\\\bar{x_2}\\\\\\bar{x_3}\\\\\\bar{x_4}\\\\\\bar{x_5}\\\\\\bar{x_6}\\end{bmatrix}$$\n",
    "\n",
    "$$\\pmb{S}=\\frac{1}{n-1}(\\pmb{X-1\\bar{x}^T})^T(\\pmb{X-1\\bar{x}^T})$$\n",
    "\n",
    "We know the formula for the Hotelling $T^2$, and now have enough information to plug in all the values\n",
    "\n",
    "$$T^2=n(\\pmb{\\bar{X}}-\\pmb{\\mu_0})^T \\pmb{S^{-1}}(\\pmb{\\bar{X}}-\\pmb{\\mu_0})=50(\\pmb{\\bar{X}}-\\pmb{0})^T \\pmb{S^{-1}}(\\pmb{\\bar{X}}-\\pmb{0})=50\\begin{bmatrix}\\bar{x_1}\\\\\\bar{x_2}\\\\\\bar{x_3}\\\\\\bar{x_4}\\\\\\bar{x_5}\\\\\\bar{x_6}\\end{bmatrix}^T \\pmb{S^{-1}}\\begin{bmatrix}\\bar{x_1}\\\\\\bar{x_2}\\\\\\bar{x_3}\\\\\\bar{x_4}\\\\\\bar{x_5}\\\\\\bar{x_6}\\end{bmatrix}$$\n",
    "\n",
    "\n",
    "And our critical point is given by\n",
    "\n",
    "$$\\frac{(n-1)p}{(n-p)}F_{p,n-p}(\\alpha)=\\frac{(29)6}{(24)}F_{6,24}(0.05)$$\n",
    "\n",
    "We reject our null hypothesis at $\\alpha=.05$ if $T^2>\\frac{(29)6}{(24)}F_{6,24}(0.05)$."
   ]
  }
 ],
 "metadata": {
  "kernelspec": {
   "display_name": "Python 3",
   "language": "python",
   "name": "python3"
  },
  "language_info": {
   "codemirror_mode": {
    "name": "ipython",
    "version": 3
   },
   "file_extension": ".py",
   "mimetype": "text/x-python",
   "name": "python",
   "nbconvert_exporter": "python",
   "pygments_lexer": "ipython3",
   "version": "3.7.3"
  }
 },
 "nbformat": 4,
 "nbformat_minor": 2
}
