{
 "cells": [
  {
   "cell_type": "markdown",
   "metadata": {},
   "source": [
    "Math A7800: Homework 3\n",
    "\n",
    "Name: Jorge Monzon Diaz\n",
    "\n",
    "Email: jorgemd503@gmail.com"
   ]
  },
  {
   "cell_type": "markdown",
   "metadata": {},
   "source": [
    "## Dependencies"
   ]
  },
  {
   "cell_type": "code",
   "execution_count": 1,
   "metadata": {},
   "outputs": [],
   "source": [
    "import numpy as np\n",
    "import matplotlib.pyplot as plt\n",
    "import pandas as pd\n",
    "import scipy.stats as stats"
   ]
  },
  {
   "cell_type": "markdown",
   "metadata": {},
   "source": [
    "\\pagebreak\n",
    "# Exercise 4.23\n",
    "\n",
    "Consider the annual rates of return (including dividends) on the Dow-Jones industrial average for the years 1996-2005. These data, multiplied by 100, are:"
   ]
  },
  {
   "cell_type": "code",
   "execution_count": 2,
   "metadata": {},
   "outputs": [
    {
     "name": "stdout",
     "output_type": "stream",
     "text": [
      "      X\n",
      "1  -0.6\n",
      "2   3.1\n",
      "3  25.3\n",
      "4 -16.8\n",
      "5  -7.1\n",
      "6  -6.2\n",
      "7  25.2\n",
      "8  22.6\n",
      "9  26.0\n"
     ]
    }
   ],
   "source": [
    "x = pd.read_excel (r'hw3.xlsx', sheet_name='data 423')\n",
    "x.index += 1 \n",
    "print (x)"
   ]
  },
  {
   "cell_type": "markdown",
   "metadata": {},
   "source": [
    "## (a) Construct a Q-Q plot. Does the data seem normally distributed?"
   ]
  },
  {
   "cell_type": "code",
   "execution_count": 3,
   "metadata": {},
   "outputs": [
    {
     "name": "stdout",
     "output_type": "stream",
     "text": [
      "   x_(j)     q_(j)\n",
      "1  -16.8 -1.593219\n",
      "2   -7.1 -0.967422\n",
      "3   -6.2 -0.589456\n",
      "4   -0.6 -0.282216\n",
      "5    3.1  0.000000\n",
      "6   22.6  0.282216\n",
      "7   25.2  0.589456\n",
      "8   25.3  0.967422\n",
      "9   26.0  1.593219\n"
     ]
    },
    {
     "data": {
      "image/png": "[encoded data removed]",
      "text/plain": [
       "<Figure size 432x288 with 1 Axes>"
      ]
     },
     "metadata": {
      "needs_background": "light"
     },
     "output_type": "display_data"
    }
   ],
   "source": [
    "x = pd.read_excel (r'hw3.xlsx', sheet_name='data 423')\n",
    "\n",
    "#order x_j\n",
    "x_j=x.sort_values(by=['X']).reset_index(drop=True)\n",
    "\n",
    "#calculate q_j\n",
    "q=stats.norm.ppf(np.linspace((1-.5)/9,(9-.5)/9,9))\n",
    "q = pd.DataFrame({'q_(j)': q})\n",
    "\n",
    "#create data table\n",
    "data=pd.concat([x_j,q], axis=1)\n",
    "data.columns=['x_(j)','q_(j)']\n",
    "data.index += 1 \n",
    "print(data)\n",
    "\n",
    "#make q-q plot\n",
    "plt.scatter(data['q_(j)'],data['x_(j)'])\n",
    "plt.title(\"Q-Q Plot Annual Return Rates\")\n",
    "plt.xlabel(\"q_(j)\")\n",
    "plt.ylabel(\"x_(j)\")\n",
    "plt.show()"
   ]
  },
  {
   "cell_type": "markdown",
   "metadata": {},
   "source": [
    "This data does not seem normally distributed. It does not seem to follow a straight, linear, trendline."
   ]
  },
  {
   "cell_type": "markdown",
   "metadata": {},
   "source": [
    "## (b) Carry out a test of normality based on the correlation coefficient $r_{Q}$. Let the significance level be $\\alpha =.1$"
   ]
  },
  {
   "cell_type": "markdown",
   "metadata": {},
   "source": [
    "$$r_Q=\\frac{\\sum_{j=1}^9(x_{(j)}-\\bar{x})(q_{(j)}-\\bar{q})}{\\sqrt{\\sum_{j=1}^9(x_{(j)}-\\bar{x})^2} \\sqrt{\\sum_{j=1}^9(q_{(j)}-\\bar{q})^2}}$$"
   ]
  },
  {
   "cell_type": "code",
   "execution_count": 4,
   "metadata": {},
   "outputs": [
    {
     "name": "stdout",
     "output_type": "stream",
     "text": [
      "r_Q: 0.9351453282719002\n"
     ]
    }
   ],
   "source": [
    "print(\"r_Q:\",data['x_(j)'].corr(data['q_(j)']))"
   ]
  },
  {
   "cell_type": "markdown",
   "metadata": {},
   "source": [
    "From table 4.2, $n=10$, $\\alpha=.10$ so the critical point $=.9351$. Since $r_{Q}\\nless$ the critical point we fail to reject the hypothesis of normality."
   ]
  },
  {
   "cell_type": "markdown",
   "metadata": {},
   "source": [
    "\\pagebreak"
   ]
  },
  {
   "cell_type": "markdown",
   "metadata": {},
   "source": [
    "# Excercise 4.24\n",
    "\n",
    "Excercise 1.4 contains data on three variables for the world's largest 10 companies as of April 2005. For the sales and profits data:"
   ]
  },
  {
   "cell_type": "markdown",
   "metadata": {},
   "source": [
    "## (a) Construct Q-Q plots. Do these data appear normally distributed?"
   ]
  },
  {
   "cell_type": "code",
   "execution_count": 5,
   "metadata": {},
   "outputs": [
    {
     "name": "stdout",
     "output_type": "stream",
     "text": [
      "Sales (x1)\n",
      "                     x1_(j)     q_(j)\n",
      "Company                              \n",
      "HSBC Group            62.97 -1.644854\n",
      "Bank of America       65.45 -1.036433\n",
      "ING Group             92.01 -0.674490\n",
      "American Intl Group   95.04 -0.385320\n",
      "Citigroup            108.28 -0.125661\n",
      "General Electric     152.36  0.125661\n",
      "Toyota Motor         165.68  0.385320\n",
      "Exxon Mobile         263.99  0.674490\n",
      "Royal Dutch/Shell    265.19  1.036433\n",
      "BP                   285.06  1.644854\n"
     ]
    },
    {
     "data": {
      "image/png": "[encoded data removed]",
      "text/plain": [
       "<Figure size 432x288 with 1 Axes>"
      ]
     },
     "metadata": {
      "needs_background": "light"
     },
     "output_type": "display_data"
    },
    {
     "name": "stdout",
     "output_type": "stream",
     "text": [
      "Profits (x2)\n",
      "                     x2_(j)     q_(j)\n",
      "Company                              \n",
      "ING Group              8.10 -1.644854\n",
      "HSBC Group             9.52 -1.036433\n",
      "American Intl Group   10.91 -0.674490\n",
      "Toyota Motor          11.13 -0.385320\n",
      "Bank of America       14.14 -0.125661\n",
      "BP                    15.73  0.125661\n",
      "General Electric      16.59  0.385320\n",
      "Citigroup             17.05  0.674490\n",
      "Royal Dutch/Shell     18.54  1.036433\n",
      "Exxon Mobile          25.33  1.644854\n"
     ]
    },
    {
     "data": {
      "image/png": "[encoded data removed]",
      "text/plain": [
       "<Figure size 432x288 with 1 Axes>"
      ]
     },
     "metadata": {
      "needs_background": "light"
     },
     "output_type": "display_data"
    }
   ],
   "source": [
    "x = pd.read_excel (r'hw3.xlsx', sheet_name='data 424').set_index('Company')\n",
    "\n",
    "#order sales (x1)\n",
    "x1_j=x['sales (x1)'].sort_values()\n",
    "\n",
    "#order profits (x2)\n",
    "x2_j=x['profits (x2)'].sort_values()\n",
    "\n",
    "#calculate q_j\n",
    "q=stats.norm.ppf(np.linspace((1-.5)/10,(10-.5)/10,10))\n",
    "q = pd.DataFrame({'q_(j)': q})\n",
    "\n",
    "#create data table for sales\n",
    "print(\"Sales (x1)\")\n",
    "q=q.set_index(x1_j.index)\n",
    "data1=pd.concat([x1_j,q], axis=1)\n",
    "data1.columns=['x1_(j)','q_(j)']\n",
    "print(data1)\n",
    "\n",
    "#make q-q plot sales\n",
    "plt.scatter(data1['q_(j)'],data1['x1_(j)'])\n",
    "plt.title(\"Q-Q Plot Sales\")\n",
    "plt.xlabel(\"q_(j)\")\n",
    "plt.ylabel(\"x1_(j)\")\n",
    "plt.show()\n",
    "\n",
    "\n",
    "#create data table for profits\n",
    "print(\"Profits (x2)\")\n",
    "q=q.set_index(x2_j.index)\n",
    "data2=pd.concat([x2_j,q], axis=1)\n",
    "data2.columns=['x2_(j)','q_(j)']\n",
    "print(data2)\n",
    "\n",
    "#make q-q plot profits\n",
    "plt.scatter(data2['q_(j)'],data2['x2_(j)'])\n",
    "plt.title(\"Q-Q Plot Profit\")\n",
    "plt.xlabel(\"q_(j)\")\n",
    "plt.ylabel(\"x2_(j)\")\n",
    "plt.show()"
   ]
  },
  {
   "cell_type": "markdown",
   "metadata": {},
   "source": [
    "The Q-Q Plot for Sales does not seem normal, the data is not visibly linear. As to Profits, the trendline seems potentially linear except there is an outlier point on the top right."
   ]
  },
  {
   "cell_type": "markdown",
   "metadata": {},
   "source": [
    "## (b) Carry out a test of normality based on the correlation coefficient $r_{Q}$. Let the significance level be $\\alpha =.1$."
   ]
  },
  {
   "cell_type": "markdown",
   "metadata": {},
   "source": [
    "$$r_Q=\\frac{\\sum_{j=1}^{10}(x_{(j)}-\\bar{x})(q_{(j)}-\\bar{q})}{\\sqrt{\\sum_{j=1}^{10}(x_{(j)}-\\bar{x})^2} \\sqrt{\\sum_{j=1}^{10}(q_{(j)}-\\bar{q})^2}}$$"
   ]
  },
  {
   "cell_type": "code",
   "execution_count": 6,
   "metadata": {},
   "outputs": [
    {
     "name": "stdout",
     "output_type": "stream",
     "text": [
      "Sales correlation coefficient: 0.9371850260956385\n",
      "Profits correlation coefficient: 0.969164496800138\n"
     ]
    }
   ],
   "source": [
    "print(\"Sales correlation coefficient:\",data1['x1_(j)'].corr(data1['q_(j)']))\n",
    "\n",
    "print(\"Profits correlation coefficient:\",data2['x2_(j)'].corr(data2['q_(j)']))"
   ]
  },
  {
   "cell_type": "markdown",
   "metadata": {},
   "source": [
    "From table 4.2, $n=10$, $\\alpha=.10$ so the critical point $=.9351$. \n",
    "\n",
    "Since both the correlation for sales and for profits are $>.9351$ we fail to reject the hypothesis of normality for either."
   ]
  },
  {
   "cell_type": "markdown",
   "metadata": {},
   "source": [
    "\\pagebreak"
   ]
  },
  {
   "cell_type": "markdown",
   "metadata": {},
   "source": [
    "# Exercise 4.25\n",
    "\n",
    "Refer to the data for the world's 10 largest companies in Exercise 1.4. Construct a chi-square plot using all three variables. The chi square-quantiles are:"
   ]
  },
  {
   "cell_type": "code",
   "execution_count": 7,
   "metadata": {},
   "outputs": [
    {
     "name": "stdout",
     "output_type": "stream",
     "text": [
      "     q_(j)\n",
      "1   0.3518\n",
      "2   0.7978\n",
      "3   1.2125\n",
      "4   1.6416\n",
      "5   2.1095\n",
      "6   2.6430\n",
      "7   3.2831\n",
      "8   4.1083\n",
      "9   5.3170\n",
      "10  7.8147\n"
     ]
    }
   ],
   "source": [
    "q = pd.DataFrame({'q_(j)': [.3518,.7978,1.2125,1.6416,2.1095,2.6430,3.2831,4.1083,5.3170,7.8147]})\n",
    "q.index += 1 \n",
    "print(q)"
   ]
  },
  {
   "cell_type": "code",
   "execution_count": 8,
   "metadata": {},
   "outputs": [
    {
     "name": "stdout",
     "output_type": "stream",
     "text": [
      "x-mean:\n",
      "sales (x1)      155.603\n",
      "profits (x2)     14.704\n",
      "assets (x3)     710.911\n",
      "dtype: float64\n",
      "\n",
      "X:\n",
      "[[ 108.28   17.05 1484.1 ]\n",
      " [ 152.36   16.59  750.33]\n",
      " [  95.04   10.91  766.42]\n",
      " [  65.45   14.14 1110.46]\n",
      " [  62.97    9.52 1031.29]\n",
      " [ 263.99   25.33  195.26]\n",
      " [ 265.19   18.54  193.83]\n",
      " [ 285.06   15.73  191.11]\n",
      " [  92.01    8.1  1175.16]\n",
      " [ 165.68   11.13  211.15]]\n"
     ]
    }
   ],
   "source": [
    "xmean=x.mean(axis = 0) \n",
    "print(\"x-mean:\")\n",
    "print(xmean)\n",
    "\n",
    "X=x.to_numpy()\n",
    "print(\"\\nX:\")\n",
    "print(X)"
   ]
  },
  {
   "cell_type": "markdown",
   "metadata": {},
   "source": [
    "$$S=\\frac{1}{n-1}(\\bf{X-1\\bar{x}^T})^T(\\bf{X-1\\bar{x}^T})$$"
   ]
  },
  {
   "cell_type": "code",
   "execution_count": 9,
   "metadata": {},
   "outputs": [
    {
     "name": "stdout",
     "output_type": "stream",
     "text": [
      "S:\n",
      "[[ 7.47645325e+03  3.03618620e+02 -3.55759596e+04]\n",
      " [ 3.03618620e+02  2.61903156e+01 -1.05382739e+03]\n",
      " [-3.55759596e+04 -1.05382739e+03  2.37054270e+05]]\n",
      "\n",
      "S^(-1):\n",
      "[[ 8.66968588e-04 -5.86425609e-03  1.04040842e-04]\n",
      " [-5.86425609e-03  8.61660751e-02 -4.97026977e-04]\n",
      " [ 1.04040842e-04 -4.97026977e-04  1.76228512e-05]]\n"
     ]
    }
   ],
   "source": [
    "R=X-np.ones((10,1))*[155.603,14.704,710.911]\n",
    "S=1/9*(np.matmul(R.transpose(),R))\n",
    "\n",
    "print('S:')\n",
    "print(S)\n",
    "\n",
    "invS=np.linalg.inv(S)\n",
    "print('\\nS^(-1):')\n",
    "print(invS)"
   ]
  },
  {
   "cell_type": "markdown",
   "metadata": {},
   "source": [
    "$$d_j^2=(\\bf{x_j-\\bar{x}})^T S^{-1}(\\bf{x_j-\\bar{x}})$$"
   ]
  },
  {
   "cell_type": "code",
   "execution_count": 10,
   "metadata": {},
   "outputs": [
    {
     "name": "stdout",
     "output_type": "stream",
     "text": [
      "       d_j^2\n",
      "1   4.836446\n",
      "2   0.314226\n",
      "3   1.289437\n",
      "4   2.019492\n",
      "5   1.407266\n",
      "6   4.909046\n",
      "7   1.641814\n",
      "8   4.352026\n",
      "9   3.041105\n",
      "10  3.189140\n",
      "\n",
      "\n",
      "     d_(j)^2   q_(j)\n",
      "1   0.314226  0.3518\n",
      "2   1.289437  0.7978\n",
      "3   1.407266  1.2125\n",
      "4   1.641814  1.6416\n",
      "5   2.019492  2.1095\n",
      "6   3.041105  2.6430\n",
      "7   3.189140  3.2831\n",
      "8   4.352026  4.1083\n",
      "9   4.836446  5.3170\n",
      "10  4.909046  7.8147\n"
     ]
    },
    {
     "data": {
      "image/png": "[encoded data removed]",
      "text/plain": [
       "<Figure size 432x288 with 1 Axes>"
      ]
     },
     "metadata": {
      "needs_background": "light"
     },
     "output_type": "display_data"
    }
   ],
   "source": [
    "#compute expectation\n",
    "exp=np.array([x['sales (x1)'][:]-xmean['sales (x1)'],x['profits (x2)'][:]-xmean['profits (x2)'],x['assets (x3)'][:]-xmean['assets (x3)']])\n",
    "\n",
    "#transpose\n",
    "exptr=exp.transpose()\n",
    "\n",
    "#compute d_j^2 following the formula used above\n",
    "sqdist=list(map(lambda i: np.matmul(np.matmul(exptr[i,:],invS),exp[:,i]), np.arange(10)))\n",
    "sqdist = pd.DataFrame({'d_j^2': sqdist})\n",
    "sqdist.index += 1 \n",
    "print(sqdist)\n",
    "\n",
    "#order d_(j)^2\n",
    "sqdist=sqdist.sort_values(by=['d_j^2']).reset_index(drop=True)\n",
    "\n",
    "#create data table\n",
    "q=q.reset_index(drop=True)\n",
    "data=pd.concat([sqdist,q], axis=1)\n",
    "data.columns=['d_(j)^2','q_(j)']\n",
    "data.index += 1 \n",
    "print(\"\\n\")\n",
    "print(data)\n",
    "\n",
    "#make q-q plot\n",
    "plt.scatter(data['q_(j)'],data['d_(j)^2'])\n",
    "plt.title(\"Chi-Square Plot\")\n",
    "plt.xlabel(\"q_(j)\")\n",
    "plt.ylabel(\"d_(j)^2\")\n",
    "plt.show()"
   ]
  },
  {
   "cell_type": "markdown",
   "metadata": {},
   "source": [
    "\\pagebreak"
   ]
  },
  {
   "cell_type": "markdown",
   "metadata": {},
   "source": [
    "# Exercise 4.28\n",
    "\n",
    "Consider the air-pollution data given in Table 1.5. Construct a Q-Q plot for the solar radiation measurements and carry out a test for normality based on the correlation coefficient $r_Q$. Let $\\alpha=.05$ and use the entry corresponding to $n=40$ in Table 4.2.\n",
    "\n",
    "(Table not included due to space constraints)"
   ]
  },
  {
   "cell_type": "code",
   "execution_count": 11,
   "metadata": {},
   "outputs": [
    {
     "data": {
      "image/png": "[encoded data removed]",
      "text/plain": [
       "<Figure size 432x288 with 1 Axes>"
      ]
     },
     "metadata": {
      "needs_background": "light"
     },
     "output_type": "display_data"
    }
   ],
   "source": [
    "x = pd.read_excel (r'hw3.xlsx', sheet_name='data 428')\n",
    "\n",
    "#order x_j\n",
    "x_j=x.sort_values(by=['x2']).reset_index(drop=True)\n",
    "\n",
    "#calculate q_j\n",
    "q=stats.norm.ppf(np.linspace((1-.5)/42,(42-.5)/42,42))\n",
    "q = pd.DataFrame({'q_(j)': q})\n",
    "\n",
    "#create data table\n",
    "data=pd.concat([x_j,q], axis=1)\n",
    "data.columns=['x_(j)','q_(j)']\n",
    "\n",
    "#make q-q plot\n",
    "plt.scatter(data['q_(j)'],data['x_(j)'])\n",
    "plt.title(\"Q-Q Plot Solar Radiation\")\n",
    "plt.xlabel(\"q_(j)\")\n",
    "plt.ylabel(\"x_(j)\")\n",
    "plt.show()"
   ]
  },
  {
   "cell_type": "code",
   "execution_count": 12,
   "metadata": {},
   "outputs": [
    {
     "name": "stdout",
     "output_type": "stream",
     "text": [
      "solar radiation correlation coefficient: 0.9693258131891779\n"
     ]
    }
   ],
   "source": [
    "print(\"solar radiation correlation coefficient:\",data['x_(j)'].corr(data['q_(j)']))"
   ]
  },
  {
   "cell_type": "markdown",
   "metadata": {},
   "source": [
    "Since the critical value for $n=40$, $\\alpha=.05$, is $.9726$ and $r_Q=.9693$ we reject the hypothesis of normality at $\\alpha=.05$."
   ]
  },
  {
   "cell_type": "markdown",
   "metadata": {},
   "source": [
    "\\pagebreak"
   ]
  },
  {
   "cell_type": "markdown",
   "metadata": {},
   "source": [
    "# Exercise 4.30\n",
    "\n",
    "Consider the used-car data in exercise 4.26"
   ]
  },
  {
   "cell_type": "code",
   "execution_count": 13,
   "metadata": {},
   "outputs": [
    {
     "name": "stdout",
     "output_type": "stream",
     "text": [
      "    x1     x2\n",
      "1    1  18.95\n",
      "2    2  19.00\n",
      "3    3  17.95\n",
      "4    3  15.54\n",
      "5    4  14.00\n",
      "6    5  12.95\n",
      "7    6   8.94\n",
      "8    8   7.49\n",
      "9    9   6.00\n",
      "10  11   3.99\n"
     ]
    }
   ],
   "source": [
    "x = pd.read_excel (r'hw3.xlsx', sheet_name='data 430')\n",
    "x.index += 1 \n",
    "print(x)"
   ]
  },
  {
   "cell_type": "markdown",
   "metadata": {},
   "source": [
    "## (a) Determine the power transformation $\\hat{\\lambda_1}$ that makes the $x_1$ values approximately normal. Construct a Q-Q plot for the transformed data."
   ]
  },
  {
   "cell_type": "code",
   "execution_count": 14,
   "metadata": {},
   "outputs": [
    {
     "name": "stdout",
     "output_type": "stream",
     "text": [
      "    x1_(j)     q_(j)\n",
      "1        1 -1.644854\n",
      "2        2 -1.036433\n",
      "3        3 -0.674490\n",
      "4        3 -0.385320\n",
      "5        4 -0.125661\n",
      "6        5  0.125661\n",
      "7        6  0.385320\n",
      "8        8  0.674490\n",
      "9        9  1.036433\n",
      "10      11  1.644854\n"
     ]
    },
    {
     "data": {
      "image/png": "[encoded data removed]",
      "text/plain": [
       "<Figure size 432x288 with 1 Axes>"
      ]
     },
     "metadata": {
      "needs_background": "light"
     },
     "output_type": "display_data"
    }
   ],
   "source": [
    "#order x1\n",
    "x1_j=x['x1'].sort_values()\n",
    "\n",
    "#calculate q_j\n",
    "q=stats.norm.ppf(np.linspace((1-.5)/10,(10-.5)/10,10))\n",
    "q = pd.DataFrame({'q_(j)': q})\n",
    "\n",
    "#create data table\n",
    "q=q.set_index(x1_j.index)\n",
    "data=pd.concat([x1_j,q], axis=1)\n",
    "data.columns=['x1_(j)','q_(j)']\n",
    "print(data)\n",
    "\n",
    "#make q-q plot\n",
    "plt.scatter(data['q_(j)'],data['x1_(j)'])\n",
    "plt.title(\"Q-Q Plot x1\")\n",
    "plt.xlabel(\"q_(j)\")\n",
    "plt.ylabel(\"x1_(j)\")\n",
    "plt.show()"
   ]
  },
  {
   "cell_type": "code",
   "execution_count": 15,
   "metadata": {},
   "outputs": [
    {
     "name": "stdout",
     "output_type": "stream",
     "text": [
      "x1 correlation coefficient: 0.9778051227932716\n"
     ]
    }
   ],
   "source": [
    "print(\"x1 correlation coefficient:\",data['x1_(j)'].corr(data['q_(j)']))"
   ]
  },
  {
   "cell_type": "markdown",
   "metadata": {},
   "source": [
    "Since the critical value for $n=10$, $\\alpha=.1$, is $.9351$ and $r_Q=.9778$ we fail to reject the hypothesis of normality with no transformation needed. Thus $\\hat{\\lambda_1}=1$."
   ]
  },
  {
   "cell_type": "markdown",
   "metadata": {},
   "source": [
    "## (b) Determine the power transformation $\\hat{\\lambda_2}$ that makes the $x_2$ values approximately normal. Construct a Q-Q plot for the transformed data."
   ]
  },
  {
   "cell_type": "code",
   "execution_count": 16,
   "metadata": {},
   "outputs": [
    {
     "name": "stdout",
     "output_type": "stream",
     "text": [
      "    x2_(j)     q_(j)\n",
      "10    3.99 -1.644854\n",
      "9     6.00 -1.036433\n",
      "8     7.49 -0.674490\n",
      "7     8.94 -0.385320\n",
      "6    12.95 -0.125661\n",
      "5    14.00  0.125661\n",
      "4    15.54  0.385320\n",
      "3    17.95  0.674490\n",
      "1    18.95  1.036433\n",
      "2    19.00  1.644854\n"
     ]
    },
    {
     "data": {
      "image/png": "[encoded data removed]",
      "text/plain": [
       "<Figure size 432x288 with 1 Axes>"
      ]
     },
     "metadata": {
      "needs_background": "light"
     },
     "output_type": "display_data"
    }
   ],
   "source": [
    "#order x2\n",
    "x2_j=x['x2'].sort_values()\n",
    "\n",
    "#create data table\n",
    "q=q.set_index(x2_j.index)\n",
    "data=pd.concat([x2_j,q], axis=1)\n",
    "data.columns=['x2_(j)','q_(j)']\n",
    "print(data)\n",
    "\n",
    "#make q-q plot\n",
    "plt.scatter(data['q_(j)'],data['x2_(j)'])\n",
    "plt.title(\"Q-Q Plot x2\")\n",
    "plt.xlabel(\"q_(j)\")\n",
    "plt.ylabel(\"x2_(j)\")\n",
    "plt.show()"
   ]
  },
  {
   "cell_type": "code",
   "execution_count": 17,
   "metadata": {},
   "outputs": [
    {
     "name": "stdout",
     "output_type": "stream",
     "text": [
      "x2 correlation coefficient: 0.9679088069188796\n"
     ]
    }
   ],
   "source": [
    "print(\"x2 correlation coefficient:\",data['x2_(j)'].corr(data['q_(j)']))"
   ]
  },
  {
   "cell_type": "markdown",
   "metadata": {},
   "source": [
    "Since the critical value for $n=10$, $\\alpha=.1$, is $.9351$ and $r_Q=.9679$ we fail to reject the hypothesis of normality with no transformation. Thus $\\hat{\\lambda_2}=1$."
   ]
  },
  {
   "cell_type": "markdown",
   "metadata": {},
   "source": [
    "## (c) Determine the power transformations ${\\hat{\\lambda}}^T=[\\hat{\\lambda_1},\\hat{\\lambda_2}]$ that make the $[x_1, x_2]$ values jointly normal using 4-40. Compare the results with those obtained in Parts a and b."
   ]
  },
  {
   "cell_type": "markdown",
   "metadata": {},
   "source": [
    "The log likelihood function $l(\\lambda_1,\\lambda_2)$ is fairly flat between $\\lambda_1$ and $\\lambda_2$, which is consistent with the results from parts (a) and (b)."
   ]
  },
  {
   "cell_type": "markdown",
   "metadata": {},
   "source": [
    "\\pagebreak"
   ]
  },
  {
   "cell_type": "markdown",
   "metadata": {},
   "source": [
    "# Exercise 4.32\n",
    "\n",
    "Examine the marginal normality of the observations on variables $X_1, X_2,..., X_6$ for the radiotherapy data in Table 1.7. Use whatever methodology, including transformations, you feel is appropriate."
   ]
  },
  {
   "cell_type": "markdown",
   "metadata": {},
   "source": [
    "For $\\alpha=.05, n=98$, the critical point=.9870"
   ]
  },
  {
   "cell_type": "code",
   "execution_count": 18,
   "metadata": {},
   "outputs": [
    {
     "name": "stdout",
     "output_type": "stream",
     "text": [
      "         r_Q\n",
      "x1  0.984636\n",
      "x2  0.945260\n",
      "x3  0.990700\n",
      "x4  0.980980\n",
      "x5  0.990572\n",
      "x6  0.927787\n"
     ]
    }
   ],
   "source": [
    "X = pd.read_excel (r'hw3.xlsx', sheet_name='data 432')\n",
    "X_j=pd.DataFrame(np.sort(X.values, axis=0),columns=X.columns)\n",
    "\n",
    "#generate q\n",
    "q=stats.norm.ppf(np.linspace((1-.5)/98,(98-.5)/98,98))\n",
    "q = pd.DataFrame({'q_(j)': q})\n",
    "\n",
    "#make table of r_Q\n",
    "cor = pd.DataFrame(np.array([X_j['x1'].corr(q['q_(j)']), X_j['x2'].corr(q['q_(j)']), X_j['x3'].corr(q['q_(j)']), X_j['x4'].corr(q['q_(j)']), X_j['x5'].corr(q['q_(j)']), X_j['x6'].corr(q['q_(j)'])]),columns=['r_Q'], index=['x1','x2','x3','x4','x5','x6'])\n",
    "print(cor)"
   ]
  },
  {
   "cell_type": "markdown",
   "metadata": {},
   "source": [
    "For x3 and x5, we fail to reject the hypothesis of normality because their respective correlation coefficients are higher in value than the critical point.\n",
    "\n",
    "In order to transform x1, x2, x4, x6 to normality the following parameters should be used (computed by finding their optimal boxcox transformations):"
   ]
  },
  {
   "cell_type": "code",
   "execution_count": 19,
   "metadata": {},
   "outputs": [
    {
     "name": "stdout",
     "output_type": "stream",
     "text": [
      "lambda 1: 0.573872302633224\n",
      "lambda 2: -0.4938785046101076\n",
      "lambda 4: 0.2344420970433882\n",
      "lambda 6: -1.4326043401884014\n"
     ]
    }
   ],
   "source": [
    "x1=X_j['x1'][X_j['x1']!=0]\n",
    "print(\"lambda 1:\", stats.boxcox_normmax(x1,method='mle'))\n",
    "\n",
    "x2=X_j['x2'][X_j['x2']!=0]\n",
    "print(\"lambda 2:\", stats.boxcox_normmax(x2,method='mle'))\n",
    "\n",
    "x4=X_j['x4'][X_j['x4']!=0]\n",
    "print(\"lambda 4:\", stats.boxcox_normmax(x4,method='mle'))\n",
    "\n",
    "x6=X_j['x6'][X_j['x6']!=0]\n",
    "print(\"lambda 6:\", stats.boxcox_normmax(x6,method='mle'))"
   ]
  },
  {
   "cell_type": "markdown",
   "metadata": {},
   "source": [
    "\\pagebreak"
   ]
  },
  {
   "cell_type": "markdown",
   "metadata": {},
   "source": [
    "# Exercise 4.34\n",
    "\n",
    "Examine the data on bone mineral content in Table 1.8 for marginal and bivariate normality."
   ]
  },
  {
   "cell_type": "markdown",
   "metadata": {},
   "source": [
    "For $\\alpha=.05, n=25$, the critical point=.9591"
   ]
  },
  {
   "cell_type": "code",
   "execution_count": 20,
   "metadata": {},
   "outputs": [
    {
     "name": "stdout",
     "output_type": "stream",
     "text": [
      "         r_Q\n",
      "x1  0.951623\n",
      "x2  0.972087\n",
      "x3  0.984208\n",
      "x4  0.990108\n",
      "x5  0.981236\n",
      "x6  0.994038\n"
     ]
    }
   ],
   "source": [
    "X = pd.read_excel (r'hw3.xlsx', sheet_name='data 434')\n",
    "X_j=pd.DataFrame(np.sort(X.values, axis=0),columns=X.columns)\n",
    "\n",
    "#generate q\n",
    "q=stats.norm.ppf(np.linspace((1-.5)/25,(25-.5)/25,25))\n",
    "q = pd.DataFrame({'q_(j)': q})\n",
    "\n",
    "#make table of r_Q\n",
    "cor = pd.DataFrame(np.array([X_j['x1'].corr(q['q_(j)']), X_j['x2'].corr(q['q_(j)']), X_j['x3'].corr(q['q_(j)']), X_j['x4'].corr(q['q_(j)']), X_j['x5'].corr(q['q_(j)']), X_j['x6'].corr(q['q_(j)'])]),columns=['r_Q'], index=['x1','x2','x3','x4','x5','x6'])\n",
    "print(cor)"
   ]
  },
  {
   "cell_type": "markdown",
   "metadata": {},
   "source": [
    "For x2, x3, x4, x5, x6, we fail reject the hypothesis of normality because their respective correlation coefficients are higher in value than the critical point. x1 we can reject the hypothesis of normality.\n",
    "\n",
    "To study bivariate normality:"
   ]
  },
  {
   "cell_type": "code",
   "execution_count": 21,
   "metadata": {},
   "outputs": [
    {
     "name": "stdout",
     "output_type": "stream",
     "text": [
      "x-mean:\n",
      "x1    0.84380\n",
      "x2    0.81832\n",
      "x3    1.79268\n",
      "x4    1.73484\n",
      "x5    0.70440\n",
      "x6    0.69384\n",
      "dtype: float64\n"
     ]
    }
   ],
   "source": [
    "#generate q_(j)\n",
    "q=stats.chi2.ppf(np.linspace(1-(24+.5)/25,1-(.5)/25,25),6)\n",
    "q = pd.DataFrame({'q_(j)': q})\n",
    "\n",
    "xmean=X.mean(axis = 0) \n",
    "print(\"x-mean:\")\n",
    "print(xmean)\n",
    "\n",
    "#strip data\n",
    "x=X.to_numpy()"
   ]
  },
  {
   "cell_type": "markdown",
   "metadata": {},
   "source": [
    "$$S=\\frac{1}{n-1}(\\bf{X-1\\bar{x}^T})^T(\\bf{X-1\\bar{x}^T})$$"
   ]
  },
  {
   "cell_type": "code",
   "execution_count": 22,
   "metadata": {},
   "outputs": [
    {
     "name": "stdout",
     "output_type": "stream",
     "text": [
      "S:\n",
      "[[0.01300158 0.01037844 0.02234997 0.02008567 0.00912071 0.00795784]\n",
      " [0.01037844 0.01141789 0.01853519 0.02109951 0.00852978 0.00890851]\n",
      " [0.02234997 0.01853519 0.08035723 0.0667762  0.01683692 0.01284703]\n",
      " [0.02008567 0.02109951 0.0667762  0.06948447 0.01773548 0.0167936 ]\n",
      " [0.00912071 0.00852978 0.01683692 0.01773548 0.01156842 0.00807115]\n",
      " [0.00795784 0.00890851 0.01284703 0.0167936  0.00807115 0.01059914]]\n",
      "\n",
      "S^(-1):\n",
      "[[ 500.78034223 -400.88737561 -142.44331474  143.66133681  -99.36841396\n",
      "   -18.34306226]\n",
      " [-400.88737561  704.25683377  118.25786778 -173.28671259    3.78500702\n",
      "  -162.59679987]\n",
      " [-142.44331474  118.25786778  112.33741152 -116.31594184    2.31269651\n",
      "    53.92274665]\n",
      " [ 143.66133681 -173.28671259 -116.31594184  154.11518149  -14.59270154\n",
      "   -54.30267445]\n",
      " [ -99.36841396    3.78500702    2.31269651  -14.59270154  249.6035019\n",
      "   -98.32828812]\n",
      " [ -18.34306226 -162.59679987   53.92274665  -54.30267445  -98.32828812\n",
      "   340.33697033]]\n"
     ]
    }
   ],
   "source": [
    "R=x-np.ones((25,1))*[0.84380,0.81832,1.79268,1.73484,0.70440,0.69384]\n",
    "S=1/24*(np.matmul(R.transpose(),R))\n",
    "print('S:')\n",
    "print(S)\n",
    "\n",
    "invS=np.linalg.inv(S)\n",
    "print('\\nS^(-1):')\n",
    "print(invS)"
   ]
  },
  {
   "cell_type": "markdown",
   "metadata": {},
   "source": [
    "$$d_j^2=(\\bf{x_j-\\bar{x}})^T S^{-1}(\\bf{x_j-\\bar{x}})$$"
   ]
  },
  {
   "cell_type": "code",
   "execution_count": 23,
   "metadata": {},
   "outputs": [
    {
     "name": "stdout",
     "output_type": "stream",
     "text": [
      "\n",
      "\n",
      "      d_(j)^2      q_(j)\n",
      "1    0.847677   1.134419\n",
      "2    1.570318   1.764921\n",
      "3    1.896947   2.204131\n",
      "4    2.560384   2.574837\n",
      "5    2.599778   2.910446\n",
      "6    2.741653   3.225950\n",
      "7    3.158665   3.529806\n",
      "8    3.208109   3.827552\n",
      "9    3.254312   4.123261\n",
      "10   3.569292   4.420250\n",
      "11   3.607471   4.721471\n",
      "12   4.374011   5.029775\n",
      "13   5.529073   5.348121\n",
      "14   6.930814   5.679776\n",
      "15   7.169869   6.028546\n",
      "16   7.344584   6.399078\n",
      "17   7.422150   6.797304\n",
      "18   7.459225   7.231135\n",
      "19   7.511204   7.711635\n",
      "20   7.714485   8.255150\n",
      "21   8.866140   8.887578\n",
      "22   9.402304   9.653990\n",
      "23  10.282787  10.644641\n",
      "24  11.057204  12.089578\n",
      "25  13.921544  15.033208\n"
     ]
    },
    {
     "data": {
      "image/png": "[encoded data removed]",
      "text/plain": [
       "<Figure size 432x288 with 1 Axes>"
      ]
     },
     "metadata": {
      "needs_background": "light"
     },
     "output_type": "display_data"
    }
   ],
   "source": [
    "#compute expectation\n",
    "exp=np.array([X['x1'][:]-xmean['x1'],X['x2'][:]-xmean['x2'],X['x3'][:]-xmean['x3'],X['x4'][:]-xmean['x4'],X['x5'][:]-xmean['x5'],X['x6'][:]-xmean['x6']])\n",
    "\n",
    "#transpose\n",
    "exptr=exp.transpose()\n",
    "\n",
    "#compute d_j^2 following the formula used above\n",
    "sqdist=list(map(lambda i: np.matmul(np.matmul(exptr[i,:],invS),exp[:,i]), np.arange(25)))\n",
    "sqdist = pd.DataFrame({'d_j^2': sqdist})\n",
    "\n",
    "#order d_(j)^2\n",
    "sqdist=sqdist.sort_values(by=['d_j^2']).reset_index(drop=True)\n",
    "q=q.sort_values(by=['q_(j)']).reset_index(drop=True)\n",
    "\n",
    "#create data table\n",
    "#q=q.reset_index(drop=True)\n",
    "data=pd.concat([sqdist,q], axis=1)\n",
    "data.columns=['d_(j)^2','q_(j)']\n",
    "data.index += 1 \n",
    "print(\"\\n\")\n",
    "print(data)\n",
    "\n",
    "#make q-q plot\n",
    "plt.scatter(data['q_(j)'],data['d_(j)^2'])\n",
    "plt.title(\"Chi-Square Plot\")\n",
    "plt.xlabel(\"q_(j)\")\n",
    "plt.ylabel(\"d_(j)^2\")\n",
    "plt.show()"
   ]
  },
  {
   "cell_type": "markdown",
   "metadata": {},
   "source": [
    "This graph suggests multivariate normality even though it does have some curvature in the middle."
   ]
  },
  {
   "cell_type": "markdown",
   "metadata": {},
   "source": [
    "\\pagebreak"
   ]
  },
  {
   "cell_type": "markdown",
   "metadata": {},
   "source": [
    "# Exercise 4.35\n",
    "\n",
    "Examine the data on paper-quality measurements in Table 1.2 for marginal and multivariate normality."
   ]
  },
  {
   "cell_type": "markdown",
   "metadata": {},
   "source": [
    "For $\\alpha=.05, n\\approx 40$, the critical point=.9726"
   ]
  },
  {
   "cell_type": "code",
   "execution_count": 24,
   "metadata": {},
   "outputs": [
    {
     "name": "stdout",
     "output_type": "stream",
     "text": [
      "                                 r_Q\n",
      "Density                     0.899468\n",
      "Machine direction strength  0.990489\n",
      "Cross direction strength    0.922698\n"
     ]
    }
   ],
   "source": [
    "X = pd.read_excel (r'hw3.xlsx', sheet_name='data 435')\n",
    "X_j=pd.DataFrame(np.sort(X.values, axis=0),columns=X.columns)\n",
    "\n",
    "#generate q\n",
    "q=stats.norm.ppf(np.linspace((1-.5)/41,(41-.5)/41,41))\n",
    "q = pd.DataFrame({'q_(j)': q})\n",
    "\n",
    "#make table of r_Q\n",
    "cor = pd.DataFrame(np.array([X_j['Density'].corr(q['q_(j)']), X_j['Machine direction strength'].corr(q['q_(j)']), X_j['Cross direction strength'].corr(q['q_(j)'])]),columns=['r_Q'], index=['Density','Machine direction strength','Cross direction strength'])\n",
    "print(cor)"
   ]
  },
  {
   "cell_type": "markdown",
   "metadata": {},
   "source": [
    "For density and cross direction strength we reject the hypothesis of normality, for machine direction strength we fail to reject.\n",
    "\n",
    "Multivariate normality:"
   ]
  },
  {
   "cell_type": "code",
   "execution_count": 25,
   "metadata": {},
   "outputs": [
    {
     "name": "stdout",
     "output_type": "stream",
     "text": [
      "x-mean:\n",
      "Density                         0.811854\n",
      "Machine direction strength    120.953415\n",
      "Cross direction strength       67.723171\n",
      "dtype: float64\n",
      "\n",
      "X:\n"
     ]
    }
   ],
   "source": [
    "#generate q_(j)\n",
    "q=stats.chi2.ppf(np.linspace(1-(40+.5)/41,1-(.5)/41,41),3)\n",
    "q = pd.DataFrame({'q_(j)': q})\n",
    "\n",
    "xmean=X.mean(axis = 0) \n",
    "print(\"x-mean:\")\n",
    "print(xmean)\n",
    "\n",
    "#strip data\n",
    "x=X.to_numpy()\n",
    "print(\"\\nX:\")"
   ]
  },
  {
   "cell_type": "markdown",
   "metadata": {},
   "source": [
    "$$S=\\frac{1}{n-1}(\\bf{X-1\\bar{x}^T})^T(\\bf{X-1\\bar{x}^T})$$"
   ]
  },
  {
   "cell_type": "code",
   "execution_count": 26,
   "metadata": {},
   "outputs": [
    {
     "name": "stdout",
     "output_type": "stream",
     "text": [
      "S:\n",
      "[[1.26457805e-03 1.68446762e-01 2.25247976e-01]\n",
      " [1.68446762e-01 5.93211480e+01 6.09925314e+01]\n",
      " [2.25247976e-01 6.09925314e+01 9.58566672e+01]]\n",
      "\n",
      "S^(-1):\n",
      "[[ 1.41942931e+03 -1.73855447e+00 -2.22921103e+00]\n",
      " [-1.73855447e+00  5.08807154e-02 -2.82895060e-02]\n",
      " [-2.22921103e+00 -2.82895060e-02  3.36708332e-02]]\n"
     ]
    }
   ],
   "source": [
    "R=x-np.ones((41,1))*[0.811854,120.953415,67.723171]\n",
    "S=1/40*(np.matmul(R.transpose(),R))\n",
    "print('S:')\n",
    "print(S)\n",
    "\n",
    "invS=np.linalg.inv(S)\n",
    "print('\\nS^(-1):')\n",
    "print(invS)"
   ]
  },
  {
   "cell_type": "markdown",
   "metadata": {},
   "source": [
    "$$d_j^2=(\\bf{x_j-\\bar{x}})^T S^{-1}(\\bf{x_j-\\bar{x}})$$"
   ]
  },
  {
   "cell_type": "code",
   "execution_count": 27,
   "metadata": {},
   "outputs": [
    {
     "data": {
      "image/png": "[encoded data removed]",
      "text/plain": [
       "<Figure size 432x288 with 1 Axes>"
      ]
     },
     "metadata": {
      "needs_background": "light"
     },
     "output_type": "display_data"
    }
   ],
   "source": [
    "#compute expectation\n",
    "exp=np.array([X['Density'][:]-xmean['Density'],X['Machine direction strength'][:]-xmean['Machine direction strength'],X['Cross direction strength'][:]-xmean['Cross direction strength']])\n",
    "\n",
    "#transpose\n",
    "exptr=exp.transpose()\n",
    "\n",
    "#compute d_j^2 following the formula used above\n",
    "sqdist=list(map(lambda i: np.matmul(np.matmul(exptr[i,:],invS),exp[:,i]), np.arange(41)))\n",
    "sqdist = pd.DataFrame({'d_j^2': sqdist})\n",
    "\n",
    "#order d_(j)^2\n",
    "sqdist=sqdist.sort_values(by=['d_j^2']).reset_index(drop=True)\n",
    "\n",
    "#create data table\n",
    "q=q.reset_index(drop=True)\n",
    "data=pd.concat([sqdist,q], axis=1)\n",
    "data.columns=['d_(j)^2','q_(j)']\n",
    "data.index += 1 \n",
    "#print(\"\\n\")\n",
    "#print(data)\n",
    "\n",
    "#make q-q plot\n",
    "plt.scatter(data['q_(j)'],data['d_(j)^2'])\n",
    "plt.title(\"Chi-Square Plot\")\n",
    "plt.xlabel(\"q_(j)\")\n",
    "plt.ylabel(\"d_(j)^2\")\n",
    "plt.show()"
   ]
  },
  {
   "cell_type": "markdown",
   "metadata": {},
   "source": [
    "This graph seems to have a linear trendline, although it does contains an outlier, the remainder of the data is consistent."
   ]
  },
  {
   "cell_type": "markdown",
   "metadata": {},
   "source": [
    "\\pagebreak"
   ]
  },
  {
   "cell_type": "markdown",
   "metadata": {},
   "source": [
    "# Exercise 4.39\n",
    "\n",
    "The data in Table 4.6 consist of 130 observations generated by scores on a psychological test administered to Peruvian teenagers. For each of these teenagers the gender (male=1, female=2) and socioeconomic status (low=1, medium=2) were also recorded. The scores were accumulated into five subscale scores labeled independence, support, benevolence, conformity, and leadership."
   ]
  },
  {
   "cell_type": "markdown",
   "metadata": {},
   "source": [
    "## (a) Examine each of the variables independence, support, benevolence, conformity, and leadership for marginal normality."
   ]
  },
  {
   "cell_type": "markdown",
   "metadata": {},
   "source": [
    "For $\\alpha=.05, n=130$, the critical point=.990"
   ]
  },
  {
   "cell_type": "code",
   "execution_count": 28,
   "metadata": {},
   "outputs": [
    {
     "name": "stdout",
     "output_type": "stream",
     "text": [
      "              r_Q\n",
      "Indep    0.988130\n",
      "Supp     0.989288\n",
      "Benev    0.992509\n",
      "Conform  0.993380\n",
      "Leader   0.981289\n"
     ]
    }
   ],
   "source": [
    "X = pd.read_excel (r'hw3.xlsx', sheet_name='data 439', usecols=['Indep','Supp','Benev','Conform','Leader'])\n",
    "X_j=pd.DataFrame(np.sort(X.values, axis=0),columns=X.columns)\n",
    "\n",
    "#generate q\n",
    "q=stats.norm.ppf(np.linspace((1-.5)/130,(130-.5)/130,130))\n",
    "q = pd.DataFrame({'q_(j)': q})\n",
    "\n",
    "#make table of r_Q\n",
    "cor = pd.DataFrame(np.array([X_j['Indep'].corr(q['q_(j)']), X_j['Supp'].corr(q['q_(j)']), X_j['Benev'].corr(q['q_(j)']), X_j['Conform'].corr(q['q_(j)']), X_j['Leader'].corr(q['q_(j)'])]),columns=['r_Q'], index=['Indep','Supp','Benev','Conform','Leader'])\n",
    "print(cor)"
   ]
  },
  {
   "cell_type": "markdown",
   "metadata": {},
   "source": [
    "For independence, support, and leadership you reject the hypothesis of normality. For benevolence and conformity you fail to reject."
   ]
  },
  {
   "cell_type": "markdown",
   "metadata": {},
   "source": [
    "## (b) Using all five variables, check for multivariate normality."
   ]
  },
  {
   "cell_type": "code",
   "execution_count": 29,
   "metadata": {},
   "outputs": [
    {
     "name": "stdout",
     "output_type": "stream",
     "text": [
      "x-mean:\n",
      "Indep      15.669231\n",
      "Supp       17.076923\n",
      "Benev      18.784615\n",
      "Conform    15.500000\n",
      "Leader     11.730769\n",
      "dtype: float64\n"
     ]
    }
   ],
   "source": [
    "#generate q_(j)\n",
    "q=stats.chi2.ppf(np.linspace(1-(129+.5)/130,1-(.5)/130,130),5)\n",
    "q = pd.DataFrame({'q_(j)': q})\n",
    "\n",
    "xmean=X.mean(axis = 0) \n",
    "print(\"x-mean:\")\n",
    "print(xmean)\n",
    "\n",
    "#strip data\n",
    "x=X.to_numpy()"
   ]
  },
  {
   "cell_type": "markdown",
   "metadata": {},
   "source": [
    "$$S=\\frac{1}{n-1}(\\bf{X-1\\bar{x}^T})^T(\\bf{X-1\\bar{x}^T})$$"
   ]
  },
  {
   "cell_type": "code",
   "execution_count": 30,
   "metadata": {},
   "outputs": [
    {
     "name": "stdout",
     "output_type": "stream",
     "text": [
      "S:\n",
      "[[ 34.48289941  -4.24378698 -17.93278107 -15.85         5.67248521]\n",
      " [ -4.24378698  17.37869822   0.41656805  -7.80769231  -8.65621302]\n",
      " [-17.93278107   0.41656805  29.61514793   9.27692308 -13.83491124]\n",
      " [-15.85        -7.80769231   9.27692308  32.78846154  -9.86538462]\n",
      " [  5.67248521  -8.65621302 -13.83491124  -9.86538462  26.75059172]]\n",
      "\n",
      "S^(-1):\n",
      "[[0.09179906 0.08217541 0.06404794 0.06516334 0.06428112]\n",
      " [0.08217541 0.17213856 0.06853816 0.09392641 0.10836279]\n",
      " [0.06404794 0.06853816 0.09170085 0.04295921 0.07186578]\n",
      " [0.06516334 0.09392641 0.04295921 0.09435168 0.07358946]\n",
      " [0.06428112 0.10836279 0.07186578 0.07358946 0.12312336]]\n"
     ]
    }
   ],
   "source": [
    "R=x-np.ones((130,1))*[15.669231,17.076923,18.784615,15.500000,11.730769]\n",
    "S=1/130*(np.matmul(R.transpose(),R))\n",
    "print('S:')\n",
    "print(S)\n",
    "\n",
    "invS=np.linalg.inv(S)\n",
    "print('\\nS^(-1):')\n",
    "print(invS)"
   ]
  },
  {
   "cell_type": "markdown",
   "metadata": {},
   "source": [
    "$$d_j^2=(\\bf{x_j-\\bar{x}})^T S^{-1}(\\bf{x_j-\\bar{x}})$$"
   ]
  },
  {
   "cell_type": "code",
   "execution_count": 31,
   "metadata": {},
   "outputs": [
    {
     "data": {
      "image/png": "[encoded data removed]",
      "text/plain": [
       "<Figure size 432x288 with 1 Axes>"
      ]
     },
     "metadata": {
      "needs_background": "light"
     },
     "output_type": "display_data"
    }
   ],
   "source": [
    "#compute expectation\n",
    "exp=np.array([X['Indep'][:]-xmean['Indep'],X['Supp'][:]-xmean['Supp'],X['Benev'][:]-xmean['Benev'],X['Conform'][:]-xmean['Conform'],X['Leader'][:]-xmean['Leader']])\n",
    "\n",
    "#transpose\n",
    "exptr=exp.transpose()\n",
    "\n",
    "#compute d_j^2 following the formula used above\n",
    "sqdist=list(map(lambda i: np.matmul(np.matmul(exptr[i,:],invS),exp[:,i]), np.arange(130)))\n",
    "sqdist = pd.DataFrame({'d_j^2': sqdist})\n",
    "\n",
    "#order d_(j)^2\n",
    "sqdist=sqdist.sort_values(by=['d_j^2']).reset_index(drop=True)\n",
    "\n",
    "#create data table\n",
    "q=q.reset_index(drop=True)\n",
    "data=pd.concat([sqdist,q], axis=1)\n",
    "data.columns=['d_(j)^2','q_(j)']\n",
    "data.index += 1 \n",
    "\n",
    "#make q-q plot\n",
    "plt.scatter(data['q_(j)'],data['d_(j)^2'])\n",
    "plt.title(\"Chi-Square Plot\")\n",
    "plt.xlabel(\"q_(j)\")\n",
    "plt.ylabel(\"d_(j)^2\")\n",
    "plt.show()"
   ]
  },
  {
   "cell_type": "markdown",
   "metadata": {},
   "source": [
    "The data is very linear, but there is one outlier on the top right."
   ]
  },
  {
   "cell_type": "markdown",
   "metadata": {},
   "source": [
    "\\pagebreak"
   ]
  },
  {
   "cell_type": "markdown",
   "metadata": {},
   "source": [
    "# Exercise 4.40\n",
    "\n",
    "Consider the data on national parks in Exercise 1.27"
   ]
  },
  {
   "cell_type": "markdown",
   "metadata": {},
   "source": [
    "## (a) Comment on any possible outliers in a scatter plot of the original variables."
   ]
  },
  {
   "cell_type": "code",
   "execution_count": 32,
   "metadata": {},
   "outputs": [
    {
     "data": {
      "image/png": "[encoded data removed]",
      "text/plain": [
       "<Figure size 432x288 with 1 Axes>"
      ]
     },
     "metadata": {
      "needs_background": "light"
     },
     "output_type": "display_data"
    }
   ],
   "source": [
    "x = pd.read_excel (r'hw3.xlsx', sheet_name='data 440')\n",
    "\n",
    "#make scatter plot\n",
    "plt.scatter(x['Visitors (millions)'],x['Size (acres)'])\n",
    "plt.title(\"National Parks\")\n",
    "plt.xlabel(\"Visitors (millions)\")\n",
    "plt.ylabel(\"Size (acres)\")\n",
    "plt.show()"
   ]
  },
  {
   "cell_type": "markdown",
   "metadata": {},
   "source": [
    "There are a couple of present outliers in this data - like the rightmost data point with a smaller-end size but the most visitors out of any park, and the two top left points which have a large size yet have a small number of visitors relative to their size."
   ]
  },
  {
   "cell_type": "markdown",
   "metadata": {},
   "source": [
    "## (b) Determine the power transformation $\\hat{\\lambda_1}$ that makes the $x_1$ values approximately normal. Construct a Q-Q plot for the transformed data."
   ]
  },
  {
   "cell_type": "markdown",
   "metadata": {},
   "source": [
    "For $\\alpha=.05, n=15$, the critical point=.9389"
   ]
  },
  {
   "cell_type": "code",
   "execution_count": 33,
   "metadata": {},
   "outputs": [
    {
     "name": "stdout",
     "output_type": "stream",
     "text": [
      "r_Q for size: 0.9038568994710187\n"
     ]
    }
   ],
   "source": [
    "#order x1\n",
    "x1=x.sort_values(by=['Size (acres)']).reset_index(drop=True)\n",
    "\n",
    "#generate q\n",
    "q=stats.norm.ppf(np.linspace((1-.5)/15,(15-.5)/15,15))\n",
    "q = pd.DataFrame({'q_(j)': q})\n",
    "\n",
    "#correlation coeff\n",
    "print(\"r_Q for size:\",x1['Size (acres)'].corr(q['q_(j)']))"
   ]
  },
  {
   "cell_type": "markdown",
   "metadata": {},
   "source": [
    "Since $r_Q<.9389$ we must reject the hypothesis of normality, meaning that we must apply a power transformation to make the observations nearly normal."
   ]
  },
  {
   "cell_type": "code",
   "execution_count": 34,
   "metadata": {},
   "outputs": [
    {
     "name": "stdout",
     "output_type": "stream",
     "text": [
      "(array([ 2.04735893,  5.00615565,  5.17445509,  5.75396755,  8.43367424,\n",
      "        9.26626307,  9.74795747, 10.10190751, 10.5655924 , 12.24250207,\n",
      "       13.57006096, 14.28429614, 15.362147  , 16.23677623, 17.90797715]), 0.19494669074842255)\n"
     ]
    }
   ],
   "source": [
    "print(stats.boxcox(x1['Size (acres)']))"
   ]
  },
  {
   "cell_type": "markdown",
   "metadata": {},
   "source": [
    "The optimal power transformation for this given data is $\\hat\\lambda_1=0.1949$"
   ]
  },
  {
   "cell_type": "code",
   "execution_count": 35,
   "metadata": {},
   "outputs": [
    {
     "data": {
      "image/png": "[encoded data removed]",
      "text/plain": [
       "<Figure size 432x288 with 1 Axes>"
      ]
     },
     "metadata": {
      "needs_background": "light"
     },
     "output_type": "display_data"
    },
    {
     "name": "stdout",
     "output_type": "stream",
     "text": [
      "Transformed r_Q for size: 0.9907670933762295\n"
     ]
    }
   ],
   "source": [
    "#store boxcox tr data\n",
    "trdata1=np.array([ 2.04735893,  5.00615565,  5.17445509,  5.75396755,  8.43367424,\n",
    "        9.26626307,  9.74795747, 10.10190751, 10.5655924 , 12.24250207,\n",
    "       13.57006096, 14.28429614, 15.362147  , 16.23677623, 17.90797715])\n",
    "\n",
    "\n",
    "#make q-q plot\n",
    "plt.scatter(q['q_(j)'],trdata1)\n",
    "plt.title(\"Q-Q of power tranformation\")\n",
    "plt.xlabel(\"q_(j)\")\n",
    "plt.ylabel(\"Size\")\n",
    "plt.show()\n",
    "\n",
    "print(\"Transformed r_Q for size:\",np.corrcoef(trdata1,q['q_(j)'])[1, 0])"
   ]
  },
  {
   "cell_type": "markdown",
   "metadata": {},
   "source": [
    "The transformed data both follows a linear slope and has an r_Q that fails to reject the hypothesis of normality."
   ]
  },
  {
   "cell_type": "markdown",
   "metadata": {},
   "source": [
    "## (c) Determine the power transformation $\\hat{\\lambda_2}$ that makes the $x_2$ values approximately normal. Construct a Q-Q plot for the transformed data."
   ]
  },
  {
   "cell_type": "code",
   "execution_count": 36,
   "metadata": {},
   "outputs": [
    {
     "name": "stdout",
     "output_type": "stream",
     "text": [
      "r_Q for size: 0.8407643940458719\n"
     ]
    }
   ],
   "source": [
    "#order x2\n",
    "x2=x.sort_values(by=['Visitors (millions)']).reset_index(drop=True)\n",
    "\n",
    "#correlation coeff\n",
    "print(\"r_Q for size:\",x2['Visitors (millions)'].corr(q['q_(j)']))"
   ]
  },
  {
   "cell_type": "markdown",
   "metadata": {},
   "source": [
    "Since $r_Q<.9389$ we must reject the hypothesis of normality, meaning that we must apply a power transformation to make the observations nearly normal."
   ]
  },
  {
   "cell_type": "code",
   "execution_count": 37,
   "metadata": {},
   "outputs": [
    {
     "name": "stdout",
     "output_type": "stream",
     "text": [
      "(array([0.01973501, 0.08490682, 0.15281953, 0.19978117, 0.27835272,\n",
      "       0.63571295, 0.77358147, 0.79403754, 0.81097435, 0.86633253,\n",
      "       0.8762452 , 0.94504807, 0.9782269 , 1.15947382, 1.54910716]), -0.3456572326530909)\n"
     ]
    }
   ],
   "source": [
    "print(stats.boxcox(x2['Visitors (millions)']))"
   ]
  },
  {
   "cell_type": "markdown",
   "metadata": {},
   "source": [
    "The optimal power transformation for this given data is $\\hat\\lambda_2=-0.3457$"
   ]
  },
  {
   "cell_type": "code",
   "execution_count": 38,
   "metadata": {},
   "outputs": [
    {
     "data": {
      "image/png": "[encoded data removed]",
      "text/plain": [
       "<Figure size 432x288 with 1 Axes>"
      ]
     },
     "metadata": {
      "needs_background": "light"
     },
     "output_type": "display_data"
    },
    {
     "name": "stdout",
     "output_type": "stream",
     "text": [
      "Transformed r_Q for visitors: 0.9674660302071684\n"
     ]
    }
   ],
   "source": [
    "#store boxcox tr data\n",
    "trdata2=np.array([0.01973501, 0.08490682, 0.15281953, 0.19978117, 0.27835272,\n",
    "       0.63571295, 0.77358147, 0.79403754, 0.81097435, 0.86633253,\n",
    "       0.8762452 , 0.94504807, 0.9782269 , 1.15947382, 1.54910716])\n",
    "\n",
    "\n",
    "#make q-q plot\n",
    "plt.scatter(q['q_(j)'],trdata2)\n",
    "plt.title(\"Q-Q of power tranformation\")\n",
    "plt.xlabel(\"q_(j)\")\n",
    "plt.ylabel(\"Visitors\")\n",
    "plt.show()\n",
    "\n",
    "print(\"Transformed r_Q for visitors:\",np.corrcoef(trdata2,q['q_(j)'])[1, 0])"
   ]
  },
  {
   "cell_type": "markdown",
   "metadata": {},
   "source": [
    "The transformed data follows a linear slope but it shows some curvature in the middle, although it does has an r_Q that fails to reject the hypothesis of normality."
   ]
  },
  {
   "cell_type": "markdown",
   "metadata": {},
   "source": [
    "## (d) Determine the power transformation for approximate bivariate normality."
   ]
  },
  {
   "cell_type": "markdown",
   "metadata": {},
   "source": [
    "Using $\\hat\\lambda^T=[\\hat\\lambda_1, \\hat\\lambda_2]=[0.1949,−0.3457]$"
   ]
  },
  {
   "cell_type": "code",
   "execution_count": 39,
   "metadata": {},
   "outputs": [
    {
     "name": "stdout",
     "output_type": "stream",
     "text": [
      "x-mean:\n",
      "Size (acres)           10.380073\n",
      "Visitors (millions)     0.674956\n",
      "dtype: float64\n"
     ]
    }
   ],
   "source": [
    "x=pd.DataFrame([trdata1,trdata2],index=['Size (acres)','Visitors (millions)'])\n",
    "xmean=x.mean(axis = 1) \n",
    "print(\"x-mean:\")\n",
    "print(xmean)\n",
    "\n",
    "#generate q_(j)\n",
    "q=stats.chi2.ppf(np.linspace(1-(14+.5)/15,1-(.5)/15,15),2)\n",
    "q = pd.DataFrame({'q_(j)': q})\n",
    "\n",
    "#strip data\n",
    "x=x.to_numpy().transpose()"
   ]
  },
  {
   "cell_type": "markdown",
   "metadata": {},
   "source": [
    "$$S=\\frac{1}{n-1}(\\bf{X-1\\bar{x}^T})^T(\\bf{X-1\\bar{x}^T})$$"
   ]
  },
  {
   "cell_type": "code",
   "execution_count": 40,
   "metadata": {},
   "outputs": [
    {
     "name": "stdout",
     "output_type": "stream",
     "text": [
      "S:\n",
      "[[21.21655883  1.94817695]\n",
      " [ 1.94817695  0.1941497 ]]\n",
      "\n",
      "S^(-1):\n",
      "[[ 0.59960661 -6.01669625]\n",
      " [-6.01669625 65.52463833]]\n"
     ]
    }
   ],
   "source": [
    "R=x-np.ones((15,1))*[10.380073,0.674956]\n",
    "S=1/14*(np.matmul(R.transpose(),R))\n",
    "print('S:')\n",
    "print(S)\n",
    "\n",
    "invS=np.linalg.inv(S)\n",
    "print('\\nS^(-1):')\n",
    "print(invS)"
   ]
  },
  {
   "cell_type": "markdown",
   "metadata": {},
   "source": [
    "$$d_j^2=(\\bf{x_j-\\bar{x}})^T S^{-1}(\\bf{x_j-\\bar{x}})$$"
   ]
  },
  {
   "cell_type": "code",
   "execution_count": 41,
   "metadata": {},
   "outputs": [
    {
     "data": {
      "image/png": "[encoded data removed]",
      "text/plain": [
       "<Figure size 432x288 with 1 Axes>"
      ]
     },
     "metadata": {
      "needs_background": "light"
     },
     "output_type": "display_data"
    }
   ],
   "source": [
    "#compute expectation\n",
    "exp=np.array([x[:,0]-xmean['Size (acres)'],x[:,1]-xmean['Visitors (millions)']])\n",
    "\n",
    "#transpose\n",
    "exptr=exp.transpose()\n",
    "\n",
    "#compute d_j^2 following the formula used above\n",
    "sqdist=list(map(lambda i: np.matmul(np.matmul(exptr[i,:],invS),exp[:,i]), np.arange(15)))\n",
    "sqdist = pd.DataFrame({'d_j^2': sqdist})\n",
    "\n",
    "#order d_(j)^2\n",
    "sqdist=sqdist.sort_values(by=['d_j^2']).reset_index(drop=True)\n",
    "\n",
    "#create data table\n",
    "q=q.reset_index(drop=True)\n",
    "data=pd.concat([sqdist,q], axis=1)\n",
    "data.columns=['d_(j)^2','q_(j)']\n",
    "data.index += 1 \n",
    "\n",
    "#make q-q plot\n",
    "plt.scatter(data['q_(j)'],data['d_(j)^2'])\n",
    "plt.title(\"Chi-Square Plot\")\n",
    "plt.xlabel(\"q_(j)\")\n",
    "plt.ylabel(\"d_(j)^2\")\n",
    "plt.show()"
   ]
  },
  {
   "cell_type": "markdown",
   "metadata": {},
   "source": [
    "Since this graph is linear, it can be verified that $\\hat\\lambda^T=[\\hat\\lambda_1, \\hat\\lambda_2]=[0.1949,−0.3457]$ is a valid power transformation for bivariate normality."
   ]
  },
  {
   "cell_type": "markdown",
   "metadata": {},
   "source": [
    "\\pagebreak"
   ]
  },
  {
   "cell_type": "markdown",
   "metadata": {},
   "source": [
    "# Exercise 4.41\n",
    "\n",
    "Consider the data on snow removal in Exercise 3.20"
   ]
  },
  {
   "cell_type": "markdown",
   "metadata": {},
   "source": [
    "## (a) Comment on any possible outliers in a scatter plot of the original variables."
   ]
  },
  {
   "cell_type": "code",
   "execution_count": 42,
   "metadata": {},
   "outputs": [
    {
     "data": {
      "image/png": "[encoded data removed]",
      "text/plain": [
       "<Figure size 432x288 with 1 Axes>"
      ]
     },
     "metadata": {
      "needs_background": "light"
     },
     "output_type": "display_data"
    }
   ],
   "source": [
    "x = pd.read_excel (r'hw3.xlsx', sheet_name='data 441')\n",
    "\n",
    "#make scatter plot\n",
    "plt.scatter(x['x1'],x['x2'])\n",
    "plt.title(\"Snow Severity\")\n",
    "plt.xlabel(\"Duration of storm\")\n",
    "plt.ylabel(\"Time spent clearing snow\")\n",
    "plt.show()"
   ]
  },
  {
   "cell_type": "markdown",
   "metadata": {},
   "source": [
    "Potential outliers for this data include the two rightmost data points for which the storm lasted a very long time and whose time to clear the remaining snow did not match the other data points. Another potential outlier is the leftmost point for which the storm lasted a very short amount yet took a long time to clean up. It is difficult to determine outliers for this data visually from a scatterplot because the data has a large spread."
   ]
  },
  {
   "cell_type": "markdown",
   "metadata": {},
   "source": [
    "## (b) Determine the power transformation $\\hat{\\lambda_1}$ that makes the $x_1$ values approximately normal. Construct a Q-Q plot for the transformed data."
   ]
  },
  {
   "cell_type": "markdown",
   "metadata": {},
   "source": [
    "For $\\alpha=.05, n=25$, the critical point=.9591"
   ]
  },
  {
   "cell_type": "code",
   "execution_count": 43,
   "metadata": {},
   "outputs": [
    {
     "name": "stdout",
     "output_type": "stream",
     "text": [
      "r_Q for duration of storm: 0.9561249153125893\n"
     ]
    }
   ],
   "source": [
    "#order x1\n",
    "x1=x.sort_values(by=['x1']).reset_index(drop=True)\n",
    "\n",
    "#generate q\n",
    "q=stats.norm.ppf(np.linspace((1-.5)/25,(25-.5)/25,25))\n",
    "q = pd.DataFrame({'q_(j)': q})\n",
    "\n",
    "#correlation coeff\n",
    "print(\"r_Q for duration of storm:\",x1['x1'].corr(q['q_(j)']))"
   ]
  },
  {
   "cell_type": "markdown",
   "metadata": {},
   "source": [
    "Since $r_Q<.9591$ we must reject the hypothesis of normality, meaning that we must apply a power transformation to make the observations nearly normal."
   ]
  },
  {
   "cell_type": "code",
   "execution_count": 44,
   "metadata": {},
   "outputs": [
    {
     "name": "stdout",
     "output_type": "stream",
     "text": [
      "(array([1.29651682, 1.56743905, 1.88215549, 1.97060101, 1.97060101,\n",
      "       2.05283345, 2.05283345, 2.05283345, 2.20184483, 2.20184483,\n",
      "       2.20184483, 2.20184483, 2.26985626, 2.33418527, 2.33418527,\n",
      "       2.33418527, 2.45328977, 2.50867658, 2.50867658, 2.66101722,\n",
      "       2.7078111 , 2.7528676 , 2.87882357, 3.09749714, 3.22435116]), 0.05449652950256707)\n"
     ]
    }
   ],
   "source": [
    "print(stats.boxcox(x1['x1']))"
   ]
  },
  {
   "cell_type": "markdown",
   "metadata": {},
   "source": [
    "The optimal power transformation for this given data is $\\hat\\lambda_1=0.05450$"
   ]
  },
  {
   "cell_type": "code",
   "execution_count": 45,
   "metadata": {},
   "outputs": [
    {
     "data": {
      "image/png": "[encoded data removed]",
      "text/plain": [
       "<Figure size 432x288 with 1 Axes>"
      ]
     },
     "metadata": {
      "needs_background": "light"
     },
     "output_type": "display_data"
    },
    {
     "name": "stdout",
     "output_type": "stream",
     "text": [
      "Transformed r_Q for storm duration: 0.9874809079476178\n"
     ]
    }
   ],
   "source": [
    "#store boxcox tr data\n",
    "trdata1=np.array([1.29651682, 1.56743905, 1.88215549, 1.97060101, 1.97060101,\n",
    "       2.05283345, 2.05283345, 2.05283345, 2.20184483, 2.20184483,\n",
    "       2.20184483, 2.20184483, 2.26985626, 2.33418527, 2.33418527,\n",
    "       2.33418527, 2.45328977, 2.50867658, 2.50867658, 2.66101722,\n",
    "       2.7078111 , 2.7528676 , 2.87882357, 3.09749714, 3.22435116])\n",
    "\n",
    "\n",
    "#make q-q plot\n",
    "plt.scatter(q['q_(j)'],trdata1)\n",
    "plt.title(\"Q-Q of power tranformation\")\n",
    "plt.xlabel(\"q_(j)\")\n",
    "plt.ylabel(\"storm duration\")\n",
    "plt.show()\n",
    "\n",
    "print(\"Transformed r_Q for storm duration:\",np.corrcoef(trdata1,q['q_(j)'])[1, 0])"
   ]
  },
  {
   "cell_type": "markdown",
   "metadata": {},
   "source": [
    "The transformed data both follows a linear slope and has an r_Q that fails to reject the hypothesis of normality."
   ]
  },
  {
   "cell_type": "markdown",
   "metadata": {},
   "source": [
    "## (c) Determine the power transformation $\\hat{\\lambda_2}$ that makes the $x_2$ values approximately normal. Construct a Q-Q plot for the transformed data."
   ]
  },
  {
   "cell_type": "code",
   "execution_count": 46,
   "metadata": {},
   "outputs": [
    {
     "name": "stdout",
     "output_type": "stream",
     "text": [
      "r_Q for cleanup duration: 0.9389701775230993\n"
     ]
    }
   ],
   "source": [
    "#order x2\n",
    "x2=x.sort_values(by=['x2']).reset_index(drop=True)\n",
    "\n",
    "#correlation coeff\n",
    "print(\"r_Q for cleanup duration:\",x2['x2'].corr(q['q_(j)']))"
   ]
  },
  {
   "cell_type": "markdown",
   "metadata": {},
   "source": [
    "Since $r_Q>.9591$ we fail to reject the hypothesis of normality, and so $\\hat\\lambda_2=1$."
   ]
  },
  {
   "cell_type": "code",
   "execution_count": 47,
   "metadata": {},
   "outputs": [
    {
     "data": {
      "image/png": "[encoded data removed]",
      "text/plain": [
       "<Figure size 432x288 with 1 Axes>"
      ]
     },
     "metadata": {
      "needs_background": "light"
     },
     "output_type": "display_data"
    }
   ],
   "source": [
    "#make q-q plot\n",
    "plt.scatter(q['q_(j)'],x2['x2'])\n",
    "plt.title(\"Q-Q plot\")\n",
    "plt.xlabel(\"q_(j)\")\n",
    "plt.ylabel(\"Visitors\")\n",
    "plt.show()"
   ]
  },
  {
   "cell_type": "markdown",
   "metadata": {},
   "source": [
    "## (d) Determine the power transformation for approximate bivariate normality."
   ]
  },
  {
   "cell_type": "markdown",
   "metadata": {},
   "source": [
    "Using $\\hat\\lambda^T=[\\hat\\lambda_1, \\hat\\lambda_2]=[0.05450,1]$"
   ]
  },
  {
   "cell_type": "code",
   "execution_count": 48,
   "metadata": {},
   "outputs": [
    {
     "name": "stdout",
     "output_type": "stream",
     "text": [
      "x-mean:\n",
      "Storm Duration     2.308745\n",
      "Snow Cleanup      19.272000\n",
      "dtype: float64\n"
     ]
    }
   ],
   "source": [
    "x=pd.DataFrame([trdata1,x2['x2']],index=['Storm Duration','Snow Cleanup'])\n",
    "xmean=x.mean(axis = 1) \n",
    "print(\"x-mean:\")\n",
    "print(xmean)\n",
    "\n",
    "#generate q_(j)\n",
    "q=stats.chi2.ppf(np.linspace(1-(24+.5)/25,1-(.5)/25,25),2)\n",
    "q = pd.DataFrame({'q_(j)': q})\n",
    "\n",
    "#strip data\n",
    "x=x.to_numpy().transpose()"
   ]
  },
  {
   "cell_type": "markdown",
   "metadata": {},
   "source": [
    "$$S=\\frac{1}{n-1}(\\bf{X-1\\bar{x}^T})^T(\\bf{X-1\\bar{x}^T})$$"
   ]
  },
  {
   "cell_type": "code",
   "execution_count": 49,
   "metadata": {},
   "outputs": [
    {
     "name": "stdout",
     "output_type": "stream",
     "text": [
      "S:\n",
      "[[ 0.19155523  3.22000866]\n",
      " [ 3.22000866 62.23876667]]\n",
      "\n",
      "S^(-1):\n",
      "[[40.05828518 -2.07247078]\n",
      " [-2.07247078  0.1232893 ]]\n"
     ]
    }
   ],
   "source": [
    "R=x-np.ones((25,1))*[2.308745,19.272000]\n",
    "S=1/24*(np.matmul(R.transpose(),R))\n",
    "print('S:')\n",
    "print(S)\n",
    "\n",
    "invS=np.linalg.inv(S)\n",
    "print('\\nS^(-1):')\n",
    "print(invS)"
   ]
  },
  {
   "cell_type": "markdown",
   "metadata": {},
   "source": [
    "$$d_j^2=(\\bf{x_j-\\bar{x}})^T S^{-1}(\\bf{x_j-\\bar{x}})$$"
   ]
  },
  {
   "cell_type": "code",
   "execution_count": 50,
   "metadata": {},
   "outputs": [
    {
     "data": {
      "image/png": "[encoded data removed]",
      "text/plain": [
       "<Figure size 432x288 with 1 Axes>"
      ]
     },
     "metadata": {
      "needs_background": "light"
     },
     "output_type": "display_data"
    }
   ],
   "source": [
    "#compute expectation\n",
    "exp=np.array([x[:,0]-xmean['Storm Duration'],x[:,1]-xmean['Snow Cleanup']])\n",
    "\n",
    "#transpose\n",
    "exptr=exp.transpose()\n",
    "\n",
    "#compute d_j^2 following the formula used above\n",
    "sqdist=list(map(lambda i: np.matmul(np.matmul(exptr[i,:],invS),exp[:,i]), np.arange(15)))\n",
    "sqdist = pd.DataFrame({'d_j^2': sqdist})\n",
    "\n",
    "#order d_(j)^2\n",
    "sqdist=sqdist.sort_values(by=['d_j^2']).reset_index(drop=True)\n",
    "\n",
    "#create data table\n",
    "q=q.reset_index(drop=True)\n",
    "data=pd.concat([sqdist,q], axis=1)\n",
    "data.columns=['d_(j)^2','q_(j)']\n",
    "data.index += 1 \n",
    "\n",
    "#make q-q plot\n",
    "plt.scatter(data['q_(j)'],data['d_(j)^2'])\n",
    "plt.title(\"Chi-Square Plot\")\n",
    "plt.xlabel(\"q_(j)\")\n",
    "plt.ylabel(\"d_(j)^2\")\n",
    "plt.show()"
   ]
  },
  {
   "cell_type": "markdown",
   "metadata": {},
   "source": [
    "This graph is very linear, with the exception of the two rightmost end points that are huge outliers. This verifies that the optimal power transformation for bivariate normality $\\hat\\lambda^T=[\\hat\\lambda_1, \\hat\\lambda_2]=[0.05450,1]$."
   ]
  }
 ],
 "metadata": {
  "kernelspec": {
   "display_name": "Python 3",
   "language": "python",
   "name": "python3"
  },
  "language_info": {
   "codemirror_mode": {
    "name": "ipython",
    "version": 3
   },
   "file_extension": ".py",
   "mimetype": "text/x-python",
   "name": "python",
   "nbconvert_exporter": "python",
   "pygments_lexer": "ipython3",
   "version": "3.7.3"
  }
 },
 "nbformat": 4,
 "nbformat_minor": 2
}
