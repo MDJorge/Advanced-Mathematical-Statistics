{
 "cells": [
  {
   "cell_type": "markdown",
   "metadata": {},
   "source": [
    "Math A7800: Homework 4\n",
    "\n",
    "Name: Jorge Monzon Diaz\n",
    "\n",
    "Email: jorgemd503@gmail.com"
   ]
  },
  {
   "cell_type": "markdown",
   "metadata": {},
   "source": [
    "## Dependencies"
   ]
  },
  {
   "cell_type": "code",
   "execution_count": 1,
   "metadata": {},
   "outputs": [],
   "source": [
    "import numpy as np\n",
    "import matplotlib.pyplot as plt\n",
    "from matplotlib.patches import Ellipse\n",
    "import pandas as pd"
   ]
  },
  {
   "cell_type": "markdown",
   "metadata": {},
   "source": [
    "\\pagebreak\n",
    "# Exercise 5.1"
   ]
  },
  {
   "cell_type": "markdown",
   "metadata": {},
   "source": [
    "## (a) Evaluate $T^2$, for testing $H_0: \\pmb{\\mu^T}=[7,11]$, using the data\n",
    "\n",
    "$$\\pmb{X}=\\begin{bmatrix}2&12\\\\8&9\\\\6&9\\\\8&10\\end{bmatrix}$$"
   ]
  },
  {
   "cell_type": "markdown",
   "metadata": {},
   "source": [
    "$$T^2=n(\\pmb{\\bar{X}}-\\pmb{\\mu_0})^T \\pmb{S^{-1}}(\\pmb{\\bar{X}}-\\pmb{\\mu_0})$$\n",
    "\n",
    "$$S=\\frac{1}{n-1}(\\pmb{X-1\\bar{x}^T})^T(\\pmb{X-1\\bar{x}^T})$$\n",
    "\n",
    "$$\\bar{X}=\\begin{bmatrix}6\\\\10\\end{bmatrix}$$\n",
    "\n",
    "$$S=\\frac{1}{3}\\left({\\begin{bmatrix}2&12\\\\8&9\\\\6&9\\\\8&10\\end{bmatrix}-\\begin{bmatrix}6&10\\\\6&10\\\\6&10\\\\6&10\\end{bmatrix}}\\right)^T \\left({\\begin{bmatrix}2&12\\\\8&9\\\\6&9\\\\8&10\\end{bmatrix}-\\begin{bmatrix}6&10\\\\6&10\\\\6&10\\\\6&10\\end{bmatrix}}\\right)=\\frac{1}{3}{\\begin{bmatrix}-4&2&0&2\\\\2&-1&-1&0\\end{bmatrix}}{\\begin{bmatrix}-4&2\\\\2&-1\\\\0&-1\\\\2&0\\end{bmatrix}}$$\n",
    "\n",
    "$$S={\\begin{bmatrix}8&-10/3\\\\-10/3&2\\end{bmatrix}}$$\n",
    "\n",
    "$$S^{-1}=\\frac{1}{(16-\\frac{100}{9})}\\begin{bmatrix}2&10/3\\\\10/3&8\\end{bmatrix}=\\begin{bmatrix}9/22&15/22\\\\15/22&18/11\\end{bmatrix}$$\n",
    "\n",
    "$$T^2=n(\\pmb{\\bar{X}}-\\pmb{\\mu_0})^T \\pmb{S^{-1}}(\\pmb{\\bar{X}}-\\pmb{\\mu_0})=4\\begin{bmatrix}-1&-1\\end{bmatrix} \\begin{bmatrix}9/22&15/22\\\\15/22&18/11\\end{bmatrix}\\begin{bmatrix}-1\\\\-1\\end{bmatrix}=4\\begin{bmatrix}-1.0909&-2.3182\\end{bmatrix}\\begin{bmatrix}-1\\\\-1\\end{bmatrix}$$\n",
    "\n",
    "$$T^2=4(3.4091)=13.6364$$"
   ]
  },
  {
   "cell_type": "markdown",
   "metadata": {},
   "source": [
    "## (b) Specify the distribution of $T^2$ for the situation in (a)"
   ]
  },
  {
   "cell_type": "markdown",
   "metadata": {},
   "source": [
    "$$T^2\\sim\\frac{(n-1)p}{(n-p)}F_{p,n-p}=\\frac{(3)2}{(2)}F_{2,2}=3F_{2,2}$$"
   ]
  },
  {
   "cell_type": "markdown",
   "metadata": {},
   "source": [
    "## (c) Using (a) and (b), test $H_0$ at the $\\alpha=.05$ level. What conclusion do you reach?"
   ]
  },
  {
   "cell_type": "markdown",
   "metadata": {},
   "source": [
    "$$3F_{2,2}(.05)=3(19)=57$$\n",
    "\n",
    "We fail to reject our null hypothesis at $\\alpha=.05$ as $13.6364\\ngtr57$."
   ]
  },
  {
   "cell_type": "markdown",
   "metadata": {},
   "source": [
    "\\pagebreak"
   ]
  },
  {
   "cell_type": "markdown",
   "metadata": {},
   "source": [
    "# Excercise 5.5\n",
    "\n",
    "The quantities $\\pmb{\\bar x}$, $\\pmb{S}$, and $\\pmb{S}^{-1}$ are given in Example 5.3 for the transformed microwave-radiation data. Conduct a test of the null hypothesis $H_0: \\pmb{\\mu^T}=[.55,.60]$ at the $\\alpha=0.5$ level of significance. Is your result consistent with the 95% confidence ellipse for $\\pmb{\\mu}$ pictured in Figure 5.1?"
   ]
  },
  {
   "cell_type": "markdown",
   "metadata": {},
   "source": [
    "$$\\bar{X}=\\begin{bmatrix}.564\\\\.603\\end{bmatrix}$$\n",
    "\n",
    "$$S^{-1}=\\begin{bmatrix}203.018&-163.391\\\\-163.391&200.228\\end{bmatrix}$$\n",
    "\n",
    "$$T^2=n(\\pmb{\\bar{X}}-\\pmb{\\mu_0})^T \\pmb{S^{-1}}(\\pmb{\\bar{X}}-\\pmb{\\mu_0})=42\\begin{bmatrix}0.014&0.003\\end{bmatrix} \\begin{bmatrix}203.018&-163.391\\\\-163.391&200.228\\end{bmatrix}\\begin{bmatrix}0.014\\\\0.003\\end{bmatrix}$$\n",
    "\n",
    "$$T^2=42\\begin{bmatrix}2.3521&-1.6866\\end{bmatrix}\\begin{bmatrix}0.014\\\\0.003\\end{bmatrix}=42(0.0279)$$\n",
    "\n",
    "$$T^2=1.1705$$\n",
    "\n",
    "$$T^2\\sim\\frac{(n-1)p}{(n-p)}F_{p,n-p}=\\frac{(41)2}{(40)}F_{2,40}$$\n",
    "\n",
    "$$\\frac{(41)2}{(40)}F_{2,40}(.05)=\\frac{82}{40}(3.23)=6.6215$$\n",
    "\n",
    "We fail to reject our null hypothesis at $\\alpha=.05$ because $1.1705\\ngtr6.6215$. This is consistent with the 95% confidence ellipse for $\\pmb{\\mu}$ pictured in Figure 5.1 as $\\pmb{\\mu^T}=[.55,.60]$ falls within the ellipse."
   ]
  },
  {
   "cell_type": "markdown",
   "metadata": {},
   "source": [
    "\\pagebreak"
   ]
  },
  {
   "cell_type": "markdown",
   "metadata": {},
   "source": [
    "# Exercise 5.10(c)\n",
    "\n",
    "Refer to the bear growth data in Example 1.10 (see Table 1.4). Restrict your attention to the measurements of length.\n",
    "\n",
    "Obtain the 95% $T^2$ confidence ellipse for the mean increase in length from 2 to 3 years and the mean increase in length from 4 to 5 years."
   ]
  },
  {
   "cell_type": "code",
   "execution_count": 2,
   "metadata": {},
   "outputs": [
    {
     "name": "stdout",
     "output_type": "stream",
     "text": [
      "   Length 2  Length 3  Length 4  Length 5\n",
      "0       141       157       168       183\n",
      "1       140       168       174       170\n",
      "2       145       162       172       177\n",
      "3       146       159       176       171\n",
      "4       150       158       168       175\n",
      "5       142       140       178       189\n",
      "6       139       171       176       175\n",
      "   Length 2-3  Length 4-5\n",
      "0          16          15\n",
      "1          28          -4\n",
      "2          17           5\n",
      "3          13          -5\n",
      "4           8           7\n",
      "5          -2          11\n",
      "6          32          -1\n",
      "\n",
      "x-mean:\n",
      "Length 2-3    16.0\n",
      "Length 4-5     4.0\n",
      "dtype: float64\n"
     ]
    }
   ],
   "source": [
    "x = pd.read_excel (r'hw4.xlsx', sheet_name='data 510')\n",
    "print(x)\n",
    "\n",
    "#find difference in lengths\n",
    "lengths = pd.DataFrame({'Length 2-3':x['Length 3']-x['Length 2'],'Length 4-5': x['Length 5']-x['Length 4']})\n",
    "print(lengths)\n",
    "\n",
    "#print means\n",
    "print(\"\\nx-mean:\")\n",
    "print(lengths.mean(axis = 0))"
   ]
  },
  {
   "cell_type": "markdown",
   "metadata": {},
   "source": [
    "$$S=\\frac{1}{n-1}(\\pmb{X-1\\bar{x}^T})^T(\\pmb{X-1\\bar{x}^T})$$\n",
    "\n",
    "$$S=\\frac{1}{6}\\left({\\begin{bmatrix}16&15\\\\28&-4\\\\17&5\\\\13&-5\\\\8&7\\\\-2&11\\\\32&-1\\end{bmatrix}-\\begin{bmatrix}16&4\\\\16&4\\\\16&4\\\\16&4\\\\16&4\\\\16&4\\\\16&4\\end{bmatrix}}\\right)^T \\left({\\begin{bmatrix}16&15\\\\28&-4\\\\17&5\\\\13&-5\\\\8&7\\\\-2&11\\\\32&-1\\end{bmatrix}-\\begin{bmatrix}16&4\\\\16&4\\\\16&4\\\\16&4\\\\16&4\\\\16&4\\\\16&4\\end{bmatrix}}\\right)$$\n",
    "\n",
    "\n",
    "$$S=\\frac{1}{6}{\\begin{bmatrix}0&12&1&-3&-8&-18&16\\\\11&-8&1&-9&3&7&-5\\end{bmatrix}}{\\begin{bmatrix}0&11\\\\12&-8\\\\1&1\\\\-3&-9\\\\-8&3\\\\-18&7\\\\16&-5\\\\\\end{bmatrix}}$$\n",
    "\n",
    "$$S=\\frac{1}{6}{\\begin{bmatrix}798&-298\\\\-298&350\\end{bmatrix}}={\\begin{bmatrix}133&-298/6\\\\-298/6&350/6\\end{bmatrix}}$$\n",
    "\n",
    "$$S^{-1}=\\frac{9}{47624}\\begin{bmatrix}350/6&298/6\\\\298/6&133\\end{bmatrix}=\\begin{bmatrix}0.011024&0.009386\\\\0.009386&0.025135\\end{bmatrix}$$\n",
    "\n",
    "The 95% confidence region is given by:\n",
    "\n",
    "$$n(\\pmb{\\bar{X}}-\\pmb{\\mu_0})^T \\pmb{S^{-1}}(\\pmb{\\bar{X}}-\\pmb{\\mu_0})\\leq\\frac{(n-1)p}{(n-p)}F_{p,n-p}(0.05)$$\n",
    "\n",
    "$$\\frac{(6)4}{(3)}F_{4,3}(0.05)=8*9.12=72.96$$\n",
    "\n",
    "$$7\\begin{bmatrix}16-\\mu_{2-3}&4-\\mu_{4-5}\\end{bmatrix} \\begin{bmatrix}0.011024&0.009386\\\\0.009386&0.025135\\end{bmatrix}\\begin{bmatrix}16-\\mu_{2-3}\\\\4-\\mu_{4-5}\\end{bmatrix}\\leq72.96$$\n",
    "\n",
    "$$\\begin{bmatrix}16-\\mu_{2-3}&4-\\mu_{4-5}\\end{bmatrix} \\begin{bmatrix}0.011024&0.009386\\\\0.009386&0.025135\\end{bmatrix}\\begin{bmatrix}16-\\mu_{2-3}\\\\4-\\mu_{4-5}\\end{bmatrix}\\leq10.42$$\n",
    "\n",
    "$$|S-I\\lambda|={\\begin{vmatrix}133-\\lambda&-298/6\\\\-298/6&350/6-\\lambda\\end{vmatrix}}=\\lambda^2-\\frac{574\\lambda}{3}+\\frac{47624}{9}=0$$\n",
    "\n",
    "$$\\lambda=157.80,33.533$$\n",
    "\n",
    "$$S-\\lambda_1I={\\begin{bmatrix}75.2&-49.6667\\\\-49.6667&-99.4667\\end{bmatrix}},u_1={\\begin{pmatrix}-298.4\\\\149\\end{pmatrix}}$$\n",
    "\n",
    "$$S-\\lambda_2I={\\begin{bmatrix}99.467&-49.6667\\\\-49.6667&24.8\\end{bmatrix}},u_2={\\begin{pmatrix}74.4\\\\149\\end{pmatrix}}$$\n",
    "\n",
    "Half-axis length given by:\n",
    "\n",
    "$$\\sqrt{\\frac{(n-1)p}{(n-p)n}F_{p,n-p}(0.05)\\lambda_i}=\\sqrt{10.4229\\lambda_i}$$\n",
    "\n",
    "Semi-major axis length = 40.5553\n",
    "\n",
    "Semi-minor axis length = 18.6952"
   ]
  },
  {
   "cell_type": "code",
   "execution_count": 1,
   "metadata": {},
   "outputs": [
    {
     "ename": "NameError",
     "evalue": "name 'Ellipse' is not defined",
     "output_type": "error",
     "traceback": [
      "\u001b[0;31m---------------------------------------------------------------------------\u001b[0m",
      "\u001b[0;31mNameError\u001b[0m                                 Traceback (most recent call last)",
      "\u001b[0;32m<ipython-input-1-e74d33cb56a9>\u001b[0m in \u001b[0;36m<module>\u001b[0;34m\u001b[0m\n\u001b[1;32m      1\u001b[0m \u001b[0;31m#create ellipse\u001b[0m\u001b[0;34m\u001b[0m\u001b[0;34m\u001b[0m\u001b[0;34m\u001b[0m\u001b[0m\n\u001b[0;32m----> 2\u001b[0;31m \u001b[0mell\u001b[0m\u001b[0;34m=\u001b[0m\u001b[0mEllipse\u001b[0m\u001b[0;34m(\u001b[0m\u001b[0;34m(\u001b[0m\u001b[0;36m16\u001b[0m\u001b[0;34m,\u001b[0m\u001b[0;36m4\u001b[0m\u001b[0;34m)\u001b[0m\u001b[0;34m,\u001b[0m \u001b[0;36m2\u001b[0m\u001b[0;34m*\u001b[0m\u001b[0;36m40.5553\u001b[0m\u001b[0;34m,\u001b[0m \u001b[0;36m2\u001b[0m\u001b[0;34m*\u001b[0m\u001b[0;36m18.6952\u001b[0m\u001b[0;34m,\u001b[0m \u001b[0mnp\u001b[0m\u001b[0;34m.\u001b[0m\u001b[0mdegrees\u001b[0m\u001b[0;34m(\u001b[0m\u001b[0mnp\u001b[0m\u001b[0;34m.\u001b[0m\u001b[0marctan2\u001b[0m\u001b[0;34m(\u001b[0m\u001b[0;36m149\u001b[0m\u001b[0;34m,\u001b[0m \u001b[0;34m-\u001b[0m\u001b[0;36m298.4\u001b[0m\u001b[0;34m)\u001b[0m\u001b[0;34m)\u001b[0m\u001b[0;34m)\u001b[0m\u001b[0;34m\u001b[0m\u001b[0;34m\u001b[0m\u001b[0m\n\u001b[0m\u001b[1;32m      3\u001b[0m \u001b[0;31m#plot center\u001b[0m\u001b[0;34m\u001b[0m\u001b[0;34m\u001b[0m\u001b[0;34m\u001b[0m\u001b[0m\n\u001b[1;32m      4\u001b[0m \u001b[0mplt\u001b[0m\u001b[0;34m.\u001b[0m\u001b[0mplot\u001b[0m\u001b[0;34m(\u001b[0m\u001b[0;36m16\u001b[0m\u001b[0;34m,\u001b[0m \u001b[0;36m4\u001b[0m\u001b[0;34m,\u001b[0m \u001b[0mmarker\u001b[0m\u001b[0;34m=\u001b[0m\u001b[0;34m'o'\u001b[0m\u001b[0;34m,\u001b[0m \u001b[0mcolor\u001b[0m\u001b[0;34m=\u001b[0m\u001b[0;34m\"blue\"\u001b[0m\u001b[0;34m)\u001b[0m\u001b[0;34m\u001b[0m\u001b[0;34m\u001b[0m\u001b[0m\n\u001b[1;32m      5\u001b[0m \u001b[0;34m\u001b[0m\u001b[0m\n",
      "\u001b[0;31mNameError\u001b[0m: name 'Ellipse' is not defined"
     ]
    }
   ],
   "source": [
    "#create ellipse\n",
    "ell=Ellipse((16,4), 2*40.5553, 2*18.6952, np.degrees(np.arctan2(149, -298.4)))\n",
    "#plot center\n",
    "plt.plot(16, 4, marker='o', color=\"blue\")\n",
    "\n",
    "#create plot\n",
    "plt.title(\"95% confidence region\")\n",
    "plt.xlabel(\"u_(2-3)\")\n",
    "plt.ylabel(\"u_(4-5)\")\n",
    "ax = plt.gca()\n",
    "ax.add_patch(ell)\n",
    "ax.autoscale()\n",
    "plt.show()\n",
    "print(ell)"
   ]
  },
  {
   "cell_type": "markdown",
   "metadata": {},
   "source": [
    "\\pagebreak"
   ]
  },
  {
   "cell_type": "markdown",
   "metadata": {},
   "source": [
    "# Exercise 5.11(a)\n",
    "\n",
    "A physical anthropologist performed a mineral analysis of nince ancient Peruvian hairs. The results for the chromium ($x_1$) and strontium ($x_2$) levels, in parts per million (ppm), were as follows:"
   ]
  },
  {
   "cell_type": "code",
   "execution_count": 4,
   "metadata": {},
   "outputs": [
    {
     "name": "stdout",
     "output_type": "stream",
     "text": [
      "   x1(Cr)  x2(St)\n",
      "0    0.48   12.57\n",
      "1   40.53   73.68\n",
      "2    2.19   11.13\n",
      "3    0.55   20.03\n",
      "4    0.74   20.29\n",
      "5    0.66    0.78\n",
      "6    0.93    4.64\n",
      "7    0.37    0.43\n",
      "8    0.22    1.08\n",
      "\n",
      "x-mean:\n",
      "x1(Cr)     5.185556\n",
      "x2(St)    16.070000\n",
      "dtype: float64\n"
     ]
    }
   ],
   "source": [
    "x = pd.read_excel (r'hw4.xlsx', sheet_name='data 511')\n",
    "print(x)\n",
    "\n",
    "#print means\n",
    "print(\"\\nx-mean:\")\n",
    "print(x.mean(axis = 0))"
   ]
  },
  {
   "cell_type": "markdown",
   "metadata": {},
   "source": [
    "It is known that low levels (less than or equal to .100 ppm) of chromium suggest the presence of diabetes, while strontium is an indication of animal protein intake.\n",
    "\n",
    "Construct and plot a 90% joint confidence ellipse for the population mean vector $\\pmb\\mu^T=[\\mu_1,\\mu_2]$, assuming that these nine Peruvian hairs represent a random sample from individuals belonging to a particular ancient Peruvian culture."
   ]
  },
  {
   "cell_type": "code",
   "execution_count": 5,
   "metadata": {},
   "outputs": [
    {
     "name": "stdout",
     "output_type": "stream",
     "text": [
      "Ellipse(xy=(5.185556, 16.07), width=47.7552, height=7.096, angle=60.74245093288949)\n"
     ]
    },
    {
     "data": {
      "image/png": "[encoded data removed]",
      "text/plain": [
       "<Figure size 432x288 with 1 Axes>"
      ]
     },
     "metadata": {
      "needs_background": "light"
     },
     "output_type": "display_data"
    }
   ],
   "source": [
    "#create ellipse\n",
    "ell=Ellipse((5.185556,16.07), 2*23.8776, 2*3.548, np.degrees(np.arctan2(1, .5602)))\n",
    "#plot center\n",
    "plt.plot(5.185556, 16.07, marker='o', color=\"blue\")\n",
    "\n",
    "#create plot\n",
    "plt.title(\"90% confidence region\")\n",
    "plt.xlabel(\"x1\")\n",
    "plt.ylabel(\"x2\")\n",
    "ax = plt.gca()\n",
    "ax.add_patch(ell)\n",
    "ax.autoscale()\n",
    "print(ell)"
   ]
  },
  {
   "cell_type": "markdown",
   "metadata": {},
   "source": [
    "\\pagebreak"
   ]
  },
  {
   "cell_type": "markdown",
   "metadata": {},
   "source": [
    "# Exercise 5.13\n",
    "\n",
    "Determine the approximate distribution of $-n\\ln(|\\pmb{\\hat\\Sigma}|/|\\pmb{\\hat\\Sigma_0}|)$ for the sweat data in Table 5.1"
   ]
  },
  {
   "cell_type": "markdown",
   "metadata": {},
   "source": [
    "$$-n\\ln\\left(\\frac{|\\pmb{\\hat\\Sigma}|}{|\\pmb{\\hat\\Sigma_0}|}\\right)\\sim\\chi^2_{v-v_0}$$\n",
    "\n",
    "$$v=p+\\frac{p(p+1)}{2}=3+6=9, v_0=\\frac{p(p+1)}{2}=6$$\n",
    "\n",
    "$$-n\\ln\\left(\\frac{|\\pmb{\\hat\\Sigma}|}{|\\pmb{\\hat\\Sigma_0}|}\\right)\\sim\\chi^2_{3}$$"
   ]
  }
 ],
 "metadata": {
  "kernelspec": {
   "display_name": "Python 3",
   "language": "python",
   "name": "python3"
  },
  "language_info": {
   "codemirror_mode": {
    "name": "ipython",
    "version": 3
   },
   "file_extension": ".py",
   "mimetype": "text/x-python",
   "name": "python",
   "nbconvert_exporter": "python",
   "pygments_lexer": "ipython3",
   "version": "3.7.3"
  }
 },
 "nbformat": 4,
 "nbformat_minor": 2
}
