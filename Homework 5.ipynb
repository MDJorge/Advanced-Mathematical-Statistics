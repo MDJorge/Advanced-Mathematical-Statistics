{
 "cells": [
  {
   "cell_type": "markdown",
   "metadata": {},
   "source": [
    "Math A7800: Homework 5\n",
    "\n",
    "Name: Jorge Monzon Diaz\n",
    "\n",
    "Email: jorgemd503@gmail.com"
   ]
  },
  {
   "cell_type": "markdown",
   "metadata": {},
   "source": [
    "## Dependencies"
   ]
  },
  {
   "cell_type": "code",
   "execution_count": 1,
   "metadata": {},
   "outputs": [],
   "source": [
    "import numpy as np\n",
    "import matplotlib.pyplot as plt\n",
    "from matplotlib.patches import Ellipse, Rectangle\n",
    "import pandas as pd\n",
    "from scipy.stats import t"
   ]
  },
  {
   "cell_type": "markdown",
   "metadata": {},
   "source": [
    "\\pagebreak\n",
    "# Exercise 5.6"
   ]
  },
  {
   "cell_type": "markdown",
   "metadata": {},
   "source": [
    "Verify the Bonferroni inequality in (5-28) for m=3."
   ]
  },
  {
   "cell_type": "markdown",
   "metadata": {},
   "source": [
    "$$P[\\text{all } C_i \\text{ true}]=1-P[\\text{at least one } C_i \\text{ false}] \\geq 1-\\sum^m_{i=1}P(C_i \\text{ false})= 1-\\sum^m_{i=1}(1-P(C_i \\text{ true}))$$\n",
    "\n",
    "$$=1-(\\alpha_1+\\alpha_2+...+\\alpha_m)$$\n",
    "\n",
    "$$P[C_i]=1-\\alpha_i$$\n",
    "\n",
    "$$P[C_1\\cap C_2\\cap C_3)\\geq[1-P[\\overline{C_1}]-P[\\overline{C_2}]-P[\\overline{C_3}]]$$\n",
    "\n",
    "$$P[C_1\\cap C_2\\cap C_3)\\geq1-\\alpha_1-\\alpha_2-\\alpha_3$$"
   ]
  },
  {
   "cell_type": "markdown",
   "metadata": {},
   "source": [
    "\\pagebreak"
   ]
  },
  {
   "cell_type": "markdown",
   "metadata": {},
   "source": [
    "# Excercise 5.7\n",
    "\n",
    "Use the sweat data in Table 5.1 (See Example 5.2). Find simultaneous 95% $T^2$ confidence intervals for $\\mu_1$, $\\mu_2$, and $\\mu_3$ using Result 5.3. Construct the 95% Bonferroni intervals using (5-29). Compare the two sets of intervals."
   ]
  },
  {
   "cell_type": "code",
   "execution_count": 2,
   "metadata": {},
   "outputs": [
    {
     "name": "stdout",
     "output_type": "stream",
     "text": [
      "\n",
      "x-mean:\n",
      "x1     4.640\n",
      "x2    45.400\n",
      "x3     9.965\n",
      "dtype: float64\n"
     ]
    }
   ],
   "source": [
    "x = pd.read_excel (r'hw5.xlsx', sheet_name='data 57')\n",
    "\n",
    "#print means\n",
    "print(\"\\nx-mean:\")\n",
    "print(x.mean(axis = 0))"
   ]
  },
  {
   "cell_type": "markdown",
   "metadata": {},
   "source": [
    "## Simultaneous 95% $T^2$ confidence intervals for $\\mu_1$, $\\mu_2$, and $\\mu_3$ using Result 5.3:\n",
    "\n",
    "$$\\bar{x_i}-\\sqrt{\\frac{p(n-1)}{n(n-p)}F_{p,n-p}(\\alpha)}\\sqrt{s_{ii}}\\leq\\mu_i\\leq\\bar{x_i}+\\sqrt{\\frac{p(n-1)}{n(n-p)}F_{p,n-p}(\\alpha)}\\sqrt{s_{ii}}$$\n",
    "\n",
    "$$\\bar{x_i}-\\sqrt{\\frac{3(20-1)}{20(20-3)}F_{3,20-3}(0.05)}\\sqrt{s_{ii}}\\leq\\mu_i\\leq\\bar{x_i}+\\sqrt{\\frac{3(20-1)}{20(20-3)}F_{3,20-3}(0.05)}\\sqrt{s_{ii}}$$\n",
    "\n",
    "\n",
    "$$\\bar{x_i}-0.732442\\sqrt{s_{ii}}\\leq\\mu_i\\leq\\bar{x_i}+0.732442\\sqrt{s_{ii}}$$\n",
    "\n",
    "$$s_{ii}=\\frac{1}{n-1}\\sum^n_{i=1}(x_i-\\bar{x})$$"
   ]
  },
  {
   "cell_type": "code",
   "execution_count": 3,
   "metadata": {},
   "outputs": [
    {
     "name": "stdout",
     "output_type": "stream",
     "text": [
      "s_(11): 2.8793684210526322\n",
      "s_(22): 199.78842105263155\n",
      "s_(33): 3.627657894736842\n"
     ]
    }
   ],
   "source": [
    "print(\"s_(11):\",np.var(x[\"x1\"],ddof=1))\n",
    "print(\"s_(22):\",np.var(x[\"x2\"],ddof=1))\n",
    "print(\"s_(33):\",np.var(x[\"x3\"],ddof=1))"
   ]
  },
  {
   "cell_type": "markdown",
   "metadata": {},
   "source": [
    "$$4.640-0.732442\\sqrt{2.8794}\\leq\\mu_1\\leq4.640+0.732442\\sqrt{2.8794}$$\n",
    "\n",
    "$$3.3971\\leq\\mu_1\\leq5.8829$$\n",
    "\n",
    "$$45.400-0.732442\\sqrt{199.7884}\\leq\\mu_2\\leq45.400+0.732442\\sqrt{199.7884}$$\n",
    "\n",
    "$$35.0472\\leq\\mu_2\\leq55.7528$$\n",
    "\n",
    "$$9.965-0.732442\\sqrt{3.6277}\\leq\\mu_3\\leq9.965+0.732442\\sqrt{3.6277}$$\n",
    "\n",
    "$$8.5700\\leq\\mu_3\\leq11.3600$$"
   ]
  },
  {
   "cell_type": "markdown",
   "metadata": {},
   "source": [
    "## 95% Bonferroni intervals:\n",
    "\n",
    "\n",
    "$$\\bar{x_i}-t_{n-1}(\\frac{\\alpha}{2p})\\sqrt{\\frac{s_{ii}}{n}}\\leq\\mu_i\\leq\\bar{x_i}+t_{n-1}(\\frac{\\alpha}{2p})\\sqrt{\\frac{s_{ii}}{n}}$$\n",
    "\n",
    "\n",
    "$$4.640-t_{19}(\\frac{0.05}{6})\\sqrt{\\frac{2.8794}{20}}\\leq\\mu_1\\leq4.640+t_{19}(\\frac{0.05}{6})\\sqrt{\\frac{2.8794}{20}}$$\n",
    "\n",
    "$$3.6440\\leq\\mu_1\\leq5.6360$$\n",
    "\n",
    "\n",
    "$$45.400-t_{19}(\\frac{0.05}{6})\\sqrt{\\frac{199.7884}{20}}\\leq\\mu_2\\leq45.400+t_{19}(\\frac{0.05}{6})\\sqrt{\\frac{199.7884}{20}}$$\n",
    "\n",
    "$$37.1031\\leq\\mu_2\\leq53.6969$$\n",
    "\n",
    "\n",
    "$$9.965-t_{19}(\\frac{0.05}{6})\\sqrt{\\frac{3.6277}{20}}\\leq\\mu_3\\leq9.965+t_{19}(\\frac{0.05}{6})\\sqrt{\\frac{3.6277}{20}}$$\n",
    "\n",
    "$$8.8470\\leq\\mu_3\\leq11.0830$$"
   ]
  },
  {
   "cell_type": "markdown",
   "metadata": {},
   "source": [
    "The intervals are similar to one another using both methods, but the Bonferonni have tighter bounds."
   ]
  },
  {
   "cell_type": "markdown",
   "metadata": {},
   "source": [
    "\\pagebreak"
   ]
  },
  {
   "cell_type": "markdown",
   "metadata": {},
   "source": [
    "# Exercise 5.10\n",
    "\n",
    "Refer to the bear growth data in Example 1.10 (see Table 1.4). Restrict your attention to the measurements of length."
   ]
  },
  {
   "cell_type": "code",
   "execution_count": 4,
   "metadata": {},
   "outputs": [
    {
     "name": "stdout",
     "output_type": "stream",
     "text": [
      "   Length 2  Length 3  Length 4  Length 5  Length 2-3  Length 3-4  Length 4-5\n",
      "0       141       157       168       183          16          11          15\n",
      "1       140       168       174       170          28           6          -4\n",
      "2       145       162       172       177          17          10           5\n",
      "3       146       159       176       171          13          17          -5\n",
      "4       150       158       168       175           8          10           7\n",
      "5       142       140       178       189          -2          38          11\n",
      "6       139       171       176       175          32           5          -1\n",
      "\n",
      "x-mean:\n",
      "Length 2      143.285714\n",
      "Length 3      159.285714\n",
      "Length 4      173.142857\n",
      "Length 5      177.142857\n",
      "Length 2-3     16.000000\n",
      "Length 3-4     13.857143\n",
      "Length 4-5      4.000000\n",
      "dtype: float64\n",
      "\n",
      "Var:\n",
      "s_(22): 15.238095238095239\n",
      "s_(33): 99.90476190476188\n",
      "s_(44): 15.809523809523808\n",
      "s_(55): 45.476190476190474\n",
      "s_((2-3)(2-3)): 133.0\n",
      "s_((3-4)(3-4)): 128.47619047619048\n",
      "s_((4-5)(4-5)): 58.333333333333336\n"
     ]
    }
   ],
   "source": [
    "x = pd.read_excel (r'hw5.xlsx', sheet_name='data 510')\n",
    "x['Length 2-3'] = x['Length 3']-x['Length 2']\n",
    "x['Length 3-4'] = x['Length 4']-x['Length 3']\n",
    "x['Length 4-5'] = x['Length 5']-x['Length 4']\n",
    "print(x)\n",
    "\n",
    "#print means\n",
    "print(\"\\nx-mean:\")\n",
    "print(x.mean(axis = 0))\n",
    "\n",
    "#print var\n",
    "print(\"\\nVar:\\ns_(22):\",np.var(x[\"Length 2\"],ddof=1))\n",
    "print(\"s_(33):\",np.var(x[\"Length 3\"],ddof=1))\n",
    "print(\"s_(44):\",np.var(x[\"Length 4\"],ddof=1))\n",
    "print(\"s_(55):\",np.var(x[\"Length 5\"],ddof=1))\n",
    "print(\"s_((2-3)(2-3)):\",np.var(x[\"Length 2-3\"],ddof=1))\n",
    "print(\"s_((3-4)(3-4)):\",np.var(x[\"Length 3-4\"],ddof=1))\n",
    "print(\"s_((4-5)(4-5)):\",np.var(x[\"Length 4-5\"],ddof=1))"
   ]
  },
  {
   "cell_type": "markdown",
   "metadata": {},
   "source": [
    "## (a) Obtain the 95% $T^2$ simultaneous confidence intervals for the four population means for length"
   ]
  },
  {
   "cell_type": "markdown",
   "metadata": {},
   "source": [
    "$$\\bar{x_i}-\\sqrt{\\frac{p(n-1)}{n(n-p)}F_{p,n-p}(\\alpha)}\\sqrt{s_{ii}}\\leq\\mu_i\\leq\\bar{x_i}+\\sqrt{\\frac{p(n-1)}{n(n-p)}F_{p,n-p}(\\alpha)}\\sqrt{s_{ii}}$$\n",
    "\n",
    "$$\\bar{x_i}-\\sqrt{\\frac{4(7-1)}{7(7-4)}F_{4,7-4}(0.05)}\\sqrt{s_{ii}}\\leq\\mu_i\\leq\\bar{x_i}+\\sqrt{\\frac{4(7-1)}{7(7-4)}F_{4,7-4}(0.05)}\\sqrt{s_{ii}}$$\n",
    "\n",
    "$$143.2857-3.2280\\sqrt{15.2381}\\leq\\mu_2\\leq143.2857+3.2280\\sqrt{15.2381}$$\n",
    "\n",
    "$$130.6849\\leq\\mu_2\\leq155.8865$$\n",
    "\n",
    "$$159.2857-3.2280\\sqrt{99.9048}\\leq\\mu_3\\leq159.2857+3.2280\\sqrt{99.9048}$$\n",
    "\n",
    "$$127.0229\\leq\\mu_3\\leq191.5521$$\n",
    "\n",
    "$$173.1429-3.2280\\sqrt{15.8095}\\leq\\mu_4\\leq173.1429+3.2280\\sqrt{15.8095}$$\n",
    "\n",
    "$$160.3080\\leq\\mu_4\\leq185.9778$$\n",
    "\n",
    "$$177.1429-3.2280\\sqrt{45.4762}\\leq\\mu_5\\leq177.1429+3.2280\\sqrt{45.4762}$$\n",
    "\n",
    "$$155.3745\\leq\\mu_5\\leq198.9113$$"
   ]
  },
  {
   "cell_type": "markdown",
   "metadata": {},
   "source": [
    "## (b) Refer to Part a. Obtain the 95% $T^2$ simultaneous confidence intervals for the three successive yearly increases in mean length"
   ]
  },
  {
   "cell_type": "markdown",
   "metadata": {},
   "source": [
    "$$\\bar{x_i}-\\sqrt{\\frac{4(7-1)}{7(7-4)}F_{4,7-4}(0.05)}\\sqrt{s_{ii}}\\leq\\mu_i\\leq\\bar{x_i}+\\sqrt{\\frac{4(7-1)}{7(7-4)}F_{4,7-4}(0.05)}\\sqrt{s_{ii}}$$\n",
    "\n",
    "$$16.0000-3.2280\\sqrt{133.0000}\\leq\\mu_{2-3}\\leq16.0000+3.2280\\sqrt{133.0000}$$\n",
    "\n",
    "$$-21.2271\\leq\\mu_{2-3}\\leq53.2271$$\n",
    "\n",
    "$$13.8571-3.2280\\sqrt{128.4762}\\leq\\mu_{3-4}\\leq13.8571+3.2280\\sqrt{128.4762}$$\n",
    "\n",
    "$$-22.7314\\leq\\mu_{3-4}\\leq50.4456$$\n",
    "\n",
    "$$4.0000-3.2280\\sqrt{58.3333}\\leq\\mu_{4-5}\\leq4.0000+3.2280\\sqrt{58.3333}$$\n",
    "\n",
    "$$-20.6543\\leq\\mu_{4-5}\\leq28.6543$$\n"
   ]
  },
  {
   "cell_type": "markdown",
   "metadata": {},
   "source": [
    "## (d) Refer to parts a and b. Construct the 95% Bonferroni confidence intervals for the set consisting of four mean lengths and three successive yearly increases in mean length"
   ]
  },
  {
   "cell_type": "markdown",
   "metadata": {},
   "source": [
    "Since we are finding CI's for a set of size 7, $m=p=7$\n",
    "\n",
    "$$\\bar{x_i}-t_{n-1}(\\frac{\\alpha}{2p})\\sqrt{\\frac{s_{ii}}{n}}\\leq\\mu_i\\leq\\bar{x_i}+t_{n-1}(\\frac{\\alpha}{2p})\\sqrt{\\frac{s_{ii}}{n}}$$\n",
    "\n",
    "$$143.2857-t_{6}(\\frac{0.05}{14})\\sqrt{\\frac{15.2381}{7}}\\leq\\mu_2\\leq143.2857+t_{6}(\\frac{0.05}{14})\\sqrt{\\frac{15.2381}{7}}$$\n",
    "\n",
    "$$137.3884\\leq\\mu_2\\leq149.1831$$\n",
    "\n",
    "$$159.2857-t_{6}(\\frac{0.05}{14})\\sqrt{\\frac{99.9048}{7}}\\leq\\mu_3\\leq159.2857+t_{6}(\\frac{0.05}{14})\\sqrt{\\frac{99.9048}{7}}$$\n",
    "\n",
    "$$144.1854\\leq\\mu_3\\leq174.3860$$\n",
    "\n",
    "$$173.1429-t_{6}(\\frac{0.05}{14})\\sqrt{\\frac{15.8095}{7}}\\leq\\mu_4\\leq173.1429+t_{6}(\\frac{0.05}{14})\\sqrt{\\frac{15.8095}{7}}$$\n",
    "\n",
    "$$167.1359\\leq\\mu_4\\leq179.1498$$\n",
    "\n",
    "$$177.1429-t_{6}(\\frac{0.05}{14})\\sqrt{\\frac{45.4762}{7}}\\leq\\mu_5\\leq177.1429+t_{6}(\\frac{0.05}{14})\\sqrt{\\frac{45.4762}{7}}$$\n",
    "\n",
    "$$166.9550\\leq\\mu_5\\leq187.3307$$\n",
    "\n",
    "$$16.0000-t_{6}(\\frac{0.05}{14})\\sqrt{\\frac{133.0000}{7}}\\leq\\mu_{2-3}\\leq16.0000+t_{6}(\\frac{0.05}{14})\\sqrt{\\frac{133.0000}{7}}$$\n",
    "\n",
    "$$-1.4228\\leq\\mu_{2-3}\\leq33.4228$$\n",
    "\n",
    "$$13.8571-t_{6}(\\frac{0.05}{14})\\sqrt{\\frac{128.4762}{7}}\\leq\\mu_{3-4}\\leq13.8571+t_{6}(\\frac{0.05}{14})\\sqrt{\\frac{128.4762}{7}}$$\n",
    "\n",
    "$$-3.2668\\leq\\mu_{3-4}\\leq30.9811$$\n",
    "\n",
    "$$4.0000-t_{6}(\\frac{0.05}{14})\\sqrt{\\frac{58.3333}{7}}\\leq\\mu_{4-5}\\leq4.0000+t_{6}(\\frac{0.05}{14})\\sqrt{\\frac{58.3333}{7}}$$\n",
    "\n",
    "$$-7.5385\\leq\\mu_{4-5}\\leq15.5385$$"
   ]
  },
  {
   "cell_type": "markdown",
   "metadata": {},
   "source": [
    "## (e) Refer to parts c and d. Compare the 95% Bonferroni confidence rectangle for the mean increase in length from 2 to 3 years and the mean increase in length from 4 to 5 years with the confidence ellipse produced by the $T^2$ procedure"
   ]
  },
  {
   "cell_type": "code",
   "execution_count": 5,
   "metadata": {},
   "outputs": [
    {
     "data": {
      "image/png": "[encoded data removed]",
      "text/plain": [
       "<Figure size 432x288 with 1 Axes>"
      ]
     },
     "metadata": {
      "needs_background": "light"
     },
     "output_type": "display_data"
    },
    {
     "name": "stdout",
     "output_type": "stream",
     "text": [
      "Ellipse(xy=(16, 4), width=81.1106, height=37.3904, angle=153.4656786561316)\n",
      "Rectangle(xy=(-1.4228, -7.5385), width=34.8456, height=23.077, angle=0)\n"
     ]
    }
   ],
   "source": [
    "#create ellipse\n",
    "ell=Ellipse((16,4), 2*40.5553, 2*18.6952, np.degrees(np.arctan2(149, -298.4)),fill=False)\n",
    "#plot center\n",
    "plt.plot(16, 4, marker='o', color=\"blue\")\n",
    "\n",
    "#create rectangle\n",
    "#recenter origin, 2*t_{n-1}(a/(2p)) width/height\n",
    "rec=Rectangle((16-17.4228,4-11.5385), 2*17.4228, 2*11.5385,fill=False)\n",
    "\n",
    "#create plot\n",
    "plt.title(\"95% confidence region\")\n",
    "plt.xlabel(\"u_(2-3)\")\n",
    "plt.ylabel(\"u_(4-5)\")\n",
    "ax = plt.gca()\n",
    "ax.add_patch(ell)\n",
    "ax.add_patch(rec)\n",
    "ax.autoscale()\n",
    "plt.show()\n",
    "print(ell)\n",
    "print(rec)"
   ]
  },
  {
   "cell_type": "markdown",
   "metadata": {},
   "source": [
    "The Bonferroni confidence rectangle fits exactly within the confidence region produced by the $T^2$ procedure."
   ]
  },
  {
   "cell_type": "markdown",
   "metadata": {},
   "source": [
    "\\pagebreak"
   ]
  },
  {
   "cell_type": "markdown",
   "metadata": {},
   "source": [
    "# Exercise 5.11(b)\n",
    "\n",
    "A physical anthropologist performed a mineral analysis of nince ancient Peruvian hairs. The results for the chromium ($x_1$) and strontium ($x_2$) levels, in parts per million (ppm), were as follows:"
   ]
  },
  {
   "cell_type": "code",
   "execution_count": 6,
   "metadata": {},
   "outputs": [
    {
     "name": "stdout",
     "output_type": "stream",
     "text": [
      "   x1(Cr)  x2(St)\n",
      "0    0.48   12.57\n",
      "1   40.53   73.68\n",
      "2    2.19   11.13\n",
      "3    0.55   20.03\n",
      "4    0.74   20.29\n",
      "5    0.66    0.78\n",
      "6    0.93    4.64\n",
      "7    0.37    0.43\n",
      "8    0.22    1.08\n",
      "\n",
      "x-mean:\n",
      "x1(Cr)     5.185556\n",
      "x2(St)    16.070000\n",
      "dtype: float64\n",
      "\n",
      "Var:\n",
      "s_(11): 176.0041777777778\n",
      "s_(22): 527.8493000000001\n"
     ]
    }
   ],
   "source": [
    "x = pd.read_excel (r'hw5.xlsx', sheet_name='data 511')\n",
    "print(x)\n",
    "\n",
    "#print means\n",
    "print(\"\\nx-mean:\")\n",
    "print(x.mean(axis = 0))\n",
    "\n",
    "#print var\n",
    "print(\"\\nVar:\\ns_(11):\",np.var(x[\"x1(Cr)\"],ddof=1))\n",
    "print(\"s_(22):\",np.var(x[\"x2(St)\"],ddof=1))"
   ]
  },
  {
   "cell_type": "markdown",
   "metadata": {},
   "source": [
    "It is known that low levels (less than or equal to .100 ppm) of chromium suggest the presence of diabetes, while strontium is an indication of animal protein intake.\n",
    "\n",
    "Obtain the individual simultaneous 90% confidence intervals for $\\mu_1$ and $\\mu_2$ by \"projecting\" the ellipse constructed in Part a on each coordinate axis. (Alternatively we could use Result 5.3). Does it appear as if this Peruvian culture has a mean strontium level of 10? That is, are any of the points ($\\mu_1$ arbitrary, 10) in the confidence regions? Is $[.30,10]^T$ a plausible value for $\\pmb\\mu$?"
   ]
  },
  {
   "cell_type": "markdown",
   "metadata": {},
   "source": [
    "$$\\bar{x_i}-\\sqrt{\\frac{p(n-1)}{n(n-p)}F_{p,n-p}(\\alpha)}\\sqrt{s_{ii}}\\leq\\mu_i\\leq\\bar{x_i}+\\sqrt{\\frac{p(n-1)}{n(n-p)}F_{p,n-p}(\\alpha)}\\sqrt{s_{ii}}$$\n",
    "\n",
    "$$\\bar{x_i}-\\sqrt{\\frac{2(9-1)}{9(9-2)}F_{2,9-2}(0.10)}\\sqrt{s_{ii}}\\leq\\mu_i\\leq\\bar{x_i}+\\sqrt{\\frac{2(9-1)}{9(9-2)}F_{2,9-2}(0.10)}\\sqrt{s_{ii}}$$\n",
    "\n",
    "$$\\bar{x_i}-\\sqrt{0.8278}\\sqrt{s_{ii}}\\leq\\mu_i\\leq\\bar{x_i}+\\sqrt{0.8278}\\sqrt{s_{ii}}$$\n",
    "\n",
    "$$5.185556-0.9098\\sqrt{176.0042}\\leq\\mu_1\\leq5.185556+0.9098\\sqrt{176.0042}$$\n",
    "\n",
    "$$-6.8844\\leq\\mu_1\\leq17.2556$$\n",
    "\n",
    "$$16.07-0.9098\\sqrt{527.8493}\\leq\\mu_2\\leq16.07+0.9098\\sqrt{527.8493}$$\n",
    "\n",
    "$$-4.8326\\leq\\mu_2\\leq36.9726$$\n",
    "\n",
    "From these intervals, 10 is indeed a plausible mean value for strontium and $[.30,10]^T$ is a plausible value for $\\pmb\\mu$."
   ]
  },
  {
   "cell_type": "markdown",
   "metadata": {},
   "source": [
    "\\pagebreak"
   ]
  },
  {
   "cell_type": "markdown",
   "metadata": {},
   "source": [
    "# Exercise 5.14\n",
    "\n",
    "Create a table similar to Table 5.4 using the entries (length of one-at-a-time t-interval)/(length of Bonferroni t-interval)"
   ]
  },
  {
   "cell_type": "markdown",
   "metadata": {},
   "source": [
    "$$\\frac{\\text{Length of one-at-a-time t-interval}}{\\text{Length of Bonferroni t-interval}}=\\frac{t_{n-1}(\\frac{\\alpha}{2})}{t_{n-1}(\\frac{\\alpha}{2m})}$$"
   ]
  },
  {
   "cell_type": "code",
   "execution_count": 7,
   "metadata": {},
   "outputs": [
    {
     "name": "stdout",
     "output_type": "stream",
     "text": [
      "Length of one-at-a-time t-interval / Length of Bonferroni t-interval:\n",
      "\t\tm\n",
      "            2         4        10\n",
      "n                                \n",
      "15   0.854643  0.748880  0.644914\n",
      "25   0.863213  0.764341  0.667817\n",
      "50   0.869052  0.774922  0.683592\n",
      "100  0.871799  0.779910  0.691050\n",
      "inf  0.874436  0.784706  0.698233\n"
     ]
    }
   ],
   "source": [
    "m=[2,4,10]\n",
    "n=[15,25,50,100,10000000000000]\n",
    "\n",
    "#compute tabular values\n",
    "num=[t.ppf(0.05/2, i-1)/t.ppf(0.05/(2*k), i-1) for i in n for k in m]\n",
    "num=np.array(num).reshape((5,3))\n",
    "\n",
    "#put into table format\n",
    "table = pd.DataFrame(num,columns=['2','4','10'], index=['15','25','50','100','inf'])\n",
    "table.index.name = 'n'\n",
    "print(\"Length of one-at-a-time t-interval / Length of Bonferroni t-interval:\")\n",
    "print(\"\\t\\tm\")\n",
    "print(table)"
   ]
  }
 ],
 "metadata": {
  "kernelspec": {
   "display_name": "Python 3",
   "language": "python",
   "name": "python3"
  },
  "language_info": {
   "codemirror_mode": {
    "name": "ipython",
    "version": 3
   },
   "file_extension": ".py",
   "mimetype": "text/x-python",
   "name": "python",
   "nbconvert_exporter": "python",
   "pygments_lexer": "ipython3",
   "version": "3.7.3"
  }
 },
 "nbformat": 4,
 "nbformat_minor": 2
}
